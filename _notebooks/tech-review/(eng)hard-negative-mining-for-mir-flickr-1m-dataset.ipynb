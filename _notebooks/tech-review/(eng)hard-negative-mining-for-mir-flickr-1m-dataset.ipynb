{
 "cells": [
  {
   "cell_type": "markdown",
   "id": "fb43da71-31dd-4644-a167-2f4cb8ac6b42",
   "metadata": {},
   "source": [
    "# \"[NDIR] (ENG) Hard-negative Mining for Mir-Flickr 1M Dataset\"\n",
    "> NDIR tech review\n",
    "\n",
    "- toc: false\n",
    "- badges: false\n",
    "- comments: false\n",
    "- categories: [near-duplicate image detection, tech-review]\n",
    "- hide_{github,colab,binder,deepnote}_badge: true"
   ]
  },
  {
   "cell_type": "markdown",
   "id": "a89b6ab6-2f4a-4a33-a22a-671efe2ecaaa",
   "metadata": {
    "jp-MarkdownHeadingCollapsed": true,
    "tags": []
   },
   "source": [
    "# 1. Overview\n",
    "__Hard-negative mining__ is one of __sampling method__ that is usually used in object detection task. The hard-negative sample means __difficult__ negative data like not high distance value but it is negative samples. Therefore, the hard-negative mining pick first hard-negative samples.<br><br>\n",
    "\n",
    "In near-duplicate image retrieval task, it means that the method firstly choose the hard-negative pair. As a representative example, following paper used this method.\n",
    "\n",
    "> 2019, Expert Systems and Applications, Lia Morra, \"Benchmarking Unsupervised Near-Duplicate Image Detection\"\n",
    "\n",
    "In above paper, they have to use Mir-Flickr 1M dataset which contain one million images. Generally, when we solve the ndir task by agglomeraive hierachical clustering algorithm, we have to use very big memory space, and also it takes at least $O(n^3)$ time complexity. Although we use parallel computing, that cannot be implemented. First of all, we can substitute clustering to binary classification task to solve clustering problem. If there are $n$ numbers of data, it can be $n \\choose 2$ numbers of pair which can be classified to ND or NND. If that is ND, it can be 1, or not 0. Following paper used this method.\n",
    "\n",
    "> 2020, Mathematics, Zhili Zhou, \"Near-Duplicate Image Detection System Using Coarse-to-Fine Matching Scheme Based on Global and Local CNN Features\"\n",
    "\n",
    "In above method, we need to consider transivity property for each pairs. If there ise cluster which is classified ND, every elements satisfy transivity property in cluster. However, in binary classification problem, \n",
    "\n",
    "$$\n",
    "\\text{If} \\,\\ _{I_i} \\text{ND}_{I_j} \\,\\ \\text{and} \\,\\ _{I_j} \\text{ND}_{I_k}, \\,\\ \\text{then} \\,\\ \n",
    "$$\n",
    "$(I_i, I_k)$ is not ND pair generally. In contrast, it is more general case, therefore we can consider it can be used.<br><br>\n",
    "  \n",
    "  \n",
    "What is left is the time complexity. The number of MFND dataset is 10e6 and the number of pairs is 4.999995e11. From now on, we will consider hard-negative mining algorithm to approximate score."
   ]
  },
  {
   "cell_type": "markdown",
   "id": "f2e13130-c068-415d-9fe1-a9ced7bdbc10",
   "metadata": {
    "tags": []
   },
   "source": [
    "# 2. Hard-negative mining for MFND dataset\n",
    "\n",
    "- Extract randomly selected query images and a compact set of NND from a large image collection that does not contain any near-duplicate match for each query image and element of collection.\n",
    "    - EX) Extract $K = 4400$ numbers of randomly selected query images and $M = 80000$ numbers of element to create a compact set from $1,000,000$ numbers of dataset.\n",
    "- For each query image, we can compute distance with all of data in collection, and it will be $K \\times M$ matrix.\n",
    "- For each row, extract NND pair which have minimum distance in that row. ($hn_1$)\n",
    "    - EX) $|hn_1| = 4400$\n",
    "- For each sorted row, extract K-nearest neighbors from query image. ($hn_2$)    \n",
    "    - EX) $|hn_2| = 4400 \\times 5$\n",
    "    \n",
    "> $hn_2$ is more \"difficult\" sample than $hn_1$."
   ]
  },
  {
   "cell_type": "markdown",
   "id": "69390b35-742c-479d-a92b-fb12cdb94f7c",
   "metadata": {},
   "source": [
    "# Commnets\n",
    "- It seems like a good way to deal with really large datasets like MFND in parallel and in parallel. \n",
    "- This is a method of selecting a negative sample, and it should not be confused with selecting a sample that is well representative of the distribution.\n",
    "- It is a simple and good method, but it seems to be a bad method under the assumption that the concept of ND can be extended to IND and NIND. Expansion of this concept may define a new concept that can quantitatively evaluate the degree from Duplicate to NND."
   ]
  }
 ],
 "metadata": {
  "kernelspec": {
   "display_name": "Python 3 (ipykernel)",
   "language": "python",
   "name": "python3"
  },
  "language_info": {
   "codemirror_mode": {
    "name": "ipython",
    "version": 3
   },
   "file_extension": ".py",
   "mimetype": "text/x-python",
   "name": "python",
   "nbconvert_exporter": "python",
   "pygments_lexer": "ipython3",
   "version": "3.9.7"
  }
 },
 "nbformat": 4,
 "nbformat_minor": 5
}

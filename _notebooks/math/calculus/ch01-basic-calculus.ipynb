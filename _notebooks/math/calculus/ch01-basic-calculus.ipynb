{
 "cells": [
  {
   "cell_type": "markdown",
   "id": "1f3e6342",
   "metadata": {},
   "source": [
    "# \"[Calculus] CH01. Basic Calculus\"\n",
    "> Calculus summary note.\n",
    "\n",
    "- toc: false\n",
    "- badges: false\n",
    "- comments: false\n",
    "- categories: [calculus]\n",
    "- hide_{github,colab,binder,deepnote}_badge: true"
   ]
  },
  {
   "cell_type": "markdown",
   "id": "6a1a44f0-4db4-4574-ae40-b586ca3fa045",
   "metadata": {
    "tags": []
   },
   "source": [
    "#### 1.0. Functions\n",
    "We'll use __numerator-layout notation__."
   ]
  },
  {
   "cell_type": "markdown",
   "id": "5c441ac2-3479-49e9-b16f-c7378811ccef",
   "metadata": {
    "tags": []
   },
   "source": [
    "##### Definition.1.1. A Function $f$ of $n$ Variables\n",
    "A function $f$ of $n$ variables is a rule that assigns a number $z = f(x_1, x_2, \\cdots, x_n)$ to an $n$-tuple $(x_1, x_2, \\cdots, x_n)$ of real numbers.\n",
    "\n",
    "$$\n",
    "f : \\mathbb{R}^n \\rightarrow \\mathbb{R}\n",
    "$$"
   ]
  },
  {
   "cell_type": "markdown",
   "id": "afa17f10-44df-4b70-802a-a61e407d4734",
   "metadata": {},
   "source": [
    "##### Definition.1.2. Limits of a Function of $n$ Variables\n",
    "Let $f$ be a function of $n$ variables whose domain $D$ includes points arbitrarily close to $\\mathbf{a}$.<br>\n",
    "Then we say that the limit of $f(\\mathbf{x})$ as $\\mathbf{x}$ approaches $\\mathbf{a}$ is $L$ and we write\n",
    "\n",
    "$$\n",
    "\\lim_{\\mathbf{x} \\rightarrow \\mathbf{a}} f(\\mathbf{x}) = L\n",
    "$$\n",
    "if for every number $\\epsilon > 0$ there is a corresponding number $\\delta > 0$ such that if $\\mathbf{x} \\in D$ and $0 < ||\\mathbf{x} - \\mathbf{a}|| < \\delta$ then $|f(\\mathbf{x}) - L| < \\epsilon $."
   ]
  },
  {
   "cell_type": "markdown",
   "id": "16ded9bd-f8eb-40bc-84bd-bfefa212c277",
   "metadata": {},
   "source": [
    "##### Definition.1.3. Continuity\n",
    "A function $f$ of two variables is called continuous at $\\mathbf{a}$ if\n",
    "\n",
    "$$\n",
    "\\lim_{\\mathbf{x} \\rightarrow \\mathbf{a}} f(\\mathbf{x}) = f(\\mathbf{a}).\n",
    "$$\n",
    "\n",
    "We say $f$ is continuous on $D$ if $f$ is continuous at every point $\\mathbf{a}$ in $D$."
   ]
  },
  {
   "cell_type": "markdown",
   "id": "700ee833-0db5-4e80-9db8-e920701f655e",
   "metadata": {},
   "source": [
    "#### 1.1. Partial Derivatives and Gradients"
   ]
  },
  {
   "cell_type": "markdown",
   "id": "8e65236a-d60f-4657-80a0-0a5f8983e317",
   "metadata": {},
   "source": [
    "##### Definition.1.4. Partial Derivative of a Function of $n$ Variables\n",
    "If $f$ is a function of $n$ variables, its partial derivatives are\n",
    "\n",
    "$$\n",
    "\\frac{\\partial}{\\partial x_i} f(\\mathbf{x}) = \\lim_{h \\rightarrow 0} \\frac{f(x_1, \\cdots, x_i + h, \\cdots, x_n) - f(x_1, \\cdots, x_i, \\cdots, x_n)}{h} \\quad \\text{for} \\,\\ i=1,2,\\cdots,n\n",
    "$$\n",
    "\n",
    "Also, a vector of partial derivatives as above is called gradient;\n",
    "\n",
    "$$\n",
    "\\nabla_\\mathbf{x} f(\\mathbf{x}) = (\\frac{\\partial}{\\partial x_1} f(\\mathbf{x}), \\cdots, \\frac{\\partial}{\\partial x_n} f(\\mathbf{x}))\n",
    "$$"
   ]
  },
  {
   "cell_type": "markdown",
   "id": "82acb317-15f1-4292-90f4-497bb7014afa",
   "metadata": {},
   "source": [
    "##### Theorem.1.1.\n",
    "Let $V = \\{f | f: \\mathbb{R}^n \\rightarrow \\mathbb{R} \\,\\ \\text{and} \\,\\ f \\,\\ \\text{is differentiable}\\}, \\,\\ W = \\{f | f: \\mathbb{R}^n \\rightarrow \\mathbb{R}^n\\}$, and $D: V \\rightarrow W, \\,\\ D(f) = \\nabla f$.<br>\n",
    "Then the differential transformation $D$ is a linear transformation and it is called differential operator $D$.\n",
    "\n",
    "__Proof.__ <br>\n",
    "$$\n",
    "\\text{For} \\,\\ 0 \\in V, \\,\\ D(0) = \\mathbf{0} \\in W. \\qquad \\cdots \\,\\ (1)\n",
    "$$\n",
    "\n",
    "$$\n",
    "\\begin{align}\n",
    "\\text{For} \\,\\ f, g \\in V, \\,\\ D(f + g) &= \\nabla_\\mathbf{x} (f + g) \\\\\n",
    "                                        &= \\nabla_\\mathbf{x} f + \\nabla_\\mathbf{x} g \\\\\n",
    "                                        &= D(f) + D(g) \\qquad \\cdots \\,\\ (2) \\\\\n",
    "\\end{align}\n",
    "$$\n",
    "\n",
    "$$\n",
    "\\begin{align}\n",
    "\\text{For} \\,\\ c \\in \\mathbb{R}, \\,\\ f \\in V, \\,\\ D(cf) &= \\nabla_\\mathbf{x} f \\\\\n",
    "                                                        &= c \\nabla_\\mathbf{x} f \\\\\n",
    "                                                        &= c D(f) \\qquad \\cdots \\,\\ (3) \\\\\n",
    "\\end{align}\n",
    "$$\n",
    "\n",
    "$$\n",
    "\\therefore \\,\\ D \\,\\ \\text{is a linear transformation} \\quad (\\because \\,\\ (1), \\,\\ (2), \\,\\ \\text{and} \\,\\ (3)) \\quad \\blacksquare\n",
    "$$"
   ]
  },
  {
   "cell_type": "markdown",
   "id": "4e14ee38-bba1-4a78-aa74-2f666d570655",
   "metadata": {},
   "source": [
    "##### Definition.1.5. Linear Approximation\n",
    "The linear approximation of $f$ at $\\mathbf{x}_0$ is given as\n",
    "\n",
    "$$\n",
    "f(\\mathbf{x}) \\approx f(\\mathbf{x}_0) + \\nabla_\\mathbf{x} f(\\mathbf{x}_0)^T (\\mathbf{x} - \\mathbf{x}_0).\n",
    "$$\n"
   ]
  },
  {
   "cell_type": "markdown",
   "id": "1dbde881-8d33-4cd5-8257-5eecfe1ee7bc",
   "metadata": {},
   "source": [
    "##### Definition.1.6. Differentiable\n",
    "If $y = f(\\mathbf{x})$, $f$ is differentiable at $\\mathbf{x}_0$ if $\\Delta u$ can be expressed in the form\n",
    "\n",
    "$$\n",
    "\\Delta y = \\nabla_\\mathbf{x} f(\\mathbf{x}_0)^T \\begin{bmatrix} \\Delta x_1 \\\\ \\Delta x_2 \\\\ \\vdots \\\\ \\Delta x_n \\end{bmatrix} + \\mathbf{\\epsilon}^T \\begin{bmatrix} \\Delta x_1 \\\\ \\Delta x_2 \\\\ \\vdots \\\\ \\Delta x_n \\end{bmatrix} \\,\\ \\text{where} \\,\\ \\mathbf{\\epsilon} \\rightarrow \\mathbf{0} \\,\\ \\text{as} \\,\\ \\begin{bmatrix} \\Delta x_1 \\\\ \\Delta x_2 \\\\ \\vdots \\\\ \\Delta x_n \\end{bmatrix} \\rightarrow \\mathbf{0}.\n",
    "$$"
   ]
  },
  {
   "cell_type": "markdown",
   "id": "5cae0ce7-32f8-4073-99ab-649e91c40d55",
   "metadata": {},
   "source": [
    "##### Theorem.1.2.\n",
    "If the gradient $\\nabla_\\mathbf{x} f$ exist near $\\mathbf{x}_0$ and are continuous at $\\mathbf{x}_0$, then $f$ is differentiable at $\\mathbf{x}_0$.\n",
    "\n",
    "__Proof.__ <br>\n",
    "\n",
    "Trivial."
   ]
  },
  {
   "cell_type": "markdown",
   "id": "5cd1c345-68ca-4a2f-a46f-2dd916b0d9ca",
   "metadata": {},
   "source": [
    "##### Definition.1.7. Differentials\n",
    "For a differentiable function $y = f(\\mathbf{x})$, let the differentials $dx_i$ for $i=1,2,\\cdots,n$ be independent variables.<br>\n",
    "Then the total differential $dy$ is defined by\n",
    "\n",
    "$$\n",
    "dy = \\nabla_\\mathbf{x} f^T \\begin{bmatrix} dx_1 \\\\ dx_2 \\\\ \\vdots \\\\ dx_n \\end{bmatrix}.\n",
    "$$"
   ]
  },
  {
   "cell_type": "markdown",
   "id": "d9637f10-1dba-4187-b1a1-7f710d71215b",
   "metadata": {},
   "source": [
    "#### 1.2. Properties of Partial Derivatives"
   ]
  },
  {
   "cell_type": "markdown",
   "id": "76bd9756-2771-49cf-98f2-5de8768d5ff9",
   "metadata": {},
   "source": [
    "##### Theorem.1.3. \n",
    "Let $f: \\mathbb{R}^n \\rightarrow \\mathbb{R}, \\,\\ g: \\mathbb{R}^n \\rightarrow \\mathbb{R},$ and $c \\in \\mathbf{R}$.\n",
    "\n",
    "1. Constant Multiple Rule: $\\nabla_\\mathbf{x} f(c\\mathbf{x}) = c\\nabla_\\mathbf{x} f(\\mathbf{x})$\n",
    "2. Sum Rule: $\\nabla_\\mathbf{x} \\{ f(\\mathbf{x}) + g(\\mathbf{x})\\} = \\nabla_\\mathbf{x} f(\\mathbf{x}) + \\nabla_\\mathbf{x} g(\\mathbf{x})$\n",
    "3. Product Rule: $\\nabla_\\mathbf{x} \\{ f(\\mathbf{x})g(\\mathbf{x}) \\} = (\\nabla_\\mathbf{x} f(\\mathbf{x}))g(\\mathbf{x}) + f(\\mathbf{x}) (\\nabla_\\mathbf{x} g(\\mathbf{x}))$\n",
    "4. Quotient Rule: $\\nabla_\\mathbf{x} \\left\\{ \\frac{f(\\mathbf{x})}{g(\\mathbf{x})} \\right\\} = \\frac{(\\nabla_\\mathbf{x} f(\\mathbf{x}))g(\\mathbf{x}) - f(\\mathbf{x}) (\\nabla_\\mathbf{x} g(\\mathbf{x}))}{g(\\mathbf{x})^2}$\n",
    "\n",
    "__Proof.__ <br>\n",
    "Trivials."
   ]
  },
  {
   "cell_type": "markdown",
   "id": "7b1e20aa-d590-468a-ab1a-10e20ad826af",
   "metadata": {},
   "source": [
    "##### Theorem.1.4. (Chain Rule)\n",
    "If $y = f(\\mathbf{x})$ and $\\mathbf{x} = \\mathbf{g}(t)$ are differentiable functions, then\n",
    "\n",
    "$$\n",
    "\\frac{dy}{dt} = \\nabla_\\mathbf{x} f^T \\begin{bmatrix} \\frac{dx_1}{dt} \\\\ \\frac{dx_2}{dt} \\\\ \\vdots \\\\ \\frac{dx_n}{dt} \\end{bmatrix}\n",
    "$$\n",
    "\n",
    "__Proof.__ <br>\n",
    "\n",
    "$$\n",
    "\\begin{matrix}\n",
    "\\Delta y = \\nabla_\\mathbf{x} f(\\mathbf{x})^T \\begin{bmatrix} \\Delta x_1 \\\\ \\Delta x_2 \\\\ \\vdots \\\\ \\Delta x_n \\end{bmatrix} + \\mathbf{\\epsilon}^T \\begin{bmatrix} \\Delta x_1 \\\\ \\Delta x_2 \\\\ \\vdots \\\\ \\Delta x_n \\end{bmatrix} \\\\\n",
    "\\frac{\\Delta y}{\\Delta t} = \\nabla_\\mathbf{x} f(\\mathbf{x})^T \\begin{bmatrix} \\frac{\\Delta x_1}{\\Delta t} \\\\ \\frac{\\Delta x_2}{\\Delta t} \\\\ \\vdots \\\\ \\frac{\\Delta x_n}{\\Delta t} \\end{bmatrix} + \\mathbf{\\epsilon}^T \\begin{bmatrix} \\frac{\\Delta x_1}{\\Delta t} \\\\ \\frac{\\Delta x_2}{\\Delta t} \\\\ \\vdots \\\\ \\frac{\\Delta x_n}{\\Delta t} \\end{bmatrix} \\\\\n",
    "\\lim_{\\Delta t \\rightarrow 0} \\frac{\\Delta y}{\\Delta t} = \\lim_{\\Delta t \\rightarrow 0} \\left\\{ \\nabla_\\mathbf{x} f(\\mathbf{x})^T \\begin{bmatrix} \\frac{\\Delta x_1}{\\Delta t} \\\\ \\frac{\\Delta x_2}{\\Delta t} \\\\ \\vdots \\\\ \\frac{\\Delta x_n}{\\Delta t} \\end{bmatrix} + \\mathbf{\\epsilon}^T \\begin{bmatrix} \\frac{\\Delta x_1}{\\Delta t} \\\\ \\frac{\\Delta x_2}{\\Delta t} \\\\ \\vdots \\\\ \\frac{\\Delta x_n}{\\Delta t} \\end{bmatrix} \\right\\} \\\\\n",
    "\\therefore \\quad \\frac{dy}{dt} = \\nabla_\\mathbf{x} f(\\mathbf{x})^T \\begin{bmatrix} \\frac{dx_1}{dt} \\\\ \\frac{dx_2}{dt} \\\\ \\vdots \\\\ \\frac{dx_n}{dt} \\end{bmatrix} \\qquad (\\therefore \\,\\ \\mathbf{\\epsilon}, \\begin{bmatrix} \\Delta x_1 \\\\ \\Delta x_2 \\\\ \\vdots \\\\ \\Delta x_n \\end{bmatrix} \\rightarrow \\mathbf{0} \\,\\ \\text{as} \\,\\ \\Delta t \\rightarrow 0) \\quad \\blacksquare\n",
    "\\end{matrix}\n",
    "$$"
   ]
  },
  {
   "cell_type": "markdown",
   "id": "52bb191d-112c-4c2f-ac37-818eac13e67b",
   "metadata": {},
   "source": [
    "##### Theorem.1.5. (Chain Rule)\n",
    "If $y = f(\\mathbf{x})$ and $\\mathbf{x} = \\mathbf{g}(\\mathbf{t})$ are differentiable functions that $f: \\mathbb{R}^n \\rightarrow \\mathbb{R}, \\,\\ \\mathbf{g}: \\mathbb{R}^m \\rightarrow \\mathbb{R}^n $, then\n",
    "\n",
    "$$\n",
    "\\nabla_\\mathbf{t} f(\\mathbf{x}) = \\begin{bmatrix} \\frac{\\partial}{\\partial t_1}f(\\mathbf{x}) \\\\ \\frac{\\partial}{\\partial t_t}f(\\mathbf{x}) \\\\ \\vdots \\\\ \\frac{\\partial}{\\partial t_m}f(\\mathbf{x}) \\end{bmatrix}_{m \\times 1}, \\quad \\frac{\\partial}{\\partial t_i}f(\\mathbf{x}) = \\nabla_\\mathbf{x} f(\\mathbf{x})^T \\begin{bmatrix} \\frac{\\partial x_1}{\\partial t_i} \\\\ \\frac{\\partial x_2}{\\partial t_i} \\\\ \\vdots \\\\ \\frac{\\partial x_n}{\\partial t_i} \\end{bmatrix}\n",
    "$$\n",
    "\n",
    "__Proof.__ <br>\n",
    "\n",
    "Trivials."
   ]
  },
  {
   "cell_type": "markdown",
   "id": "ca95b272-f807-49ba-903d-e8cb67dba137",
   "metadata": {},
   "source": [
    "##### Theorem.1.6.\n",
    "Followings are true.\n",
    "\n",
    "1. $ \\nabla_\\mathbf{w} (\\mathbf{x}^T \\mathbf{w}) = \\mathbf{x} $\n",
    "2. $ \\nabla_\\mathbf{w} (\\mathbf{w}^T R \\mathbf{w}) = (R + R^T) \\mathbf{w} $\n",
    "\n",
    "__Proof.__ <br>\n",
    "\n",
    "Trivials."
   ]
  },
  {
   "cell_type": "markdown",
   "id": "7275fdf4-3346-4f70-91c6-f3bbc14a3459",
   "metadata": {},
   "source": [
    "---\n",
    "\n",
    "##### Application.1.1.\n",
    "Solve a equation $\\nabla_\\mathbf{w} || \\mathbf{X}_{m \\times n} \\mathbf{w}_{n \\times 1} - \\hat{\\mathbf{y}}_{m \\times 1} ||^2 = \\mathbf{0} $\n",
    "\n",
    "__Solve.__ <br>\n",
    "\n",
    "$$\n",
    "\\begin{align}\n",
    "&\\nabla_\\mathbf{w} (X\\mathbf{w} - \\hat{\\mathbf{y}})^T (X\\mathbf{w} - \\hat{\\mathbf{y}}) \\\\\n",
    "&= \\nabla_\\mathbf{w} (\\mathbf{w}^T X^T - \\hat{\\mathbf{y}}^T)^T (X\\mathbf{w} - \\hat{\\mathbf{y}}) \\\\\n",
    "&= \\nabla_\\mathbf{w} (\\mathbf{w}^T X^T X \\mathbf{w} - \\mathbf{w}^T X^T \\hat{\\mathbf{y}} - \\hat{\\mathbf{y}}^T X \\mathbf{w} + \\hat{\\mathbf{y}}^T \\hat{\\mathbf{y}}) \\\\\n",
    "&= \\nabla_\\mathbf{w} (\\mathbf{w}^T X^T X \\mathbf{w} - 2\\hat{\\mathbf{y}}^T X \\mathbf{w} + \\hat{\\mathbf{y}}^T \\hat{\\mathbf{y}}) \\\\\n",
    "&= 2X^TX\\mathbf{w} - 2X^T\\hat{\\mathbf{y}} = \\mathbf{0} \\\\\n",
    "\\,\\ \\\\\n",
    "&\\qquad X^TX \\mathbf{w} = X^T \\hat{\\mathbf{y}} \\\\\n",
    "&\\therefore \\,\\ \\mathbf{w} = (X^TX)^{-1}X^T\\hat{\\mathbf{y}}\n",
    "\\end{align}\n",
    "$$\n",
    "\n",
    "\n",
    "---"
   ]
  },
  {
   "cell_type": "markdown",
   "id": "ba42fb61-56b3-4b9c-a9ad-9ce9189fd3cf",
   "metadata": {},
   "source": [
    "#### 1.3. Direction of Gradients\n",
    "Consider the directional vector $\\mathbf{d}$ that maximizes $\\mathcal{L}(\\mathbf{w} + \\eta \\mathbf{d}) - \\mathcal{L}(\\mathbf{w}) (\\le 0)$.<br>\n",
    "Geometically, $\\mathbf{d}$ must be same direction of $\\mathcal{L}(\\mathbf{w})$, therefore $\\cos(\\phi) = 1$.\n",
    "\n",
    "$$\n",
    "\\therefore \\,\\ \\mathbf{d} = \\frac{\\nabla_\\mathbf{w} \\mathcal{L}(\\mathbf{w})}{||\\nabla_\\mathbf{w} \\mathcal{L}(\\mathbf{w})||}\n",
    "$$\n",
    "\n",
    "that is, the direction of the gradient is the direction in which the function value increases."
   ]
  }
 ],
 "metadata": {
  "kernelspec": {
   "display_name": "Python 3 (ipykernel)",
   "language": "python",
   "name": "python3"
  },
  "language_info": {
   "codemirror_mode": {
    "name": "ipython",
    "version": 3
   },
   "file_extension": ".py",
   "mimetype": "text/x-python",
   "name": "python",
   "nbconvert_exporter": "python",
   "pygments_lexer": "ipython3",
   "version": "3.8.10"
  }
 },
 "nbformat": 4,
 "nbformat_minor": 5
}

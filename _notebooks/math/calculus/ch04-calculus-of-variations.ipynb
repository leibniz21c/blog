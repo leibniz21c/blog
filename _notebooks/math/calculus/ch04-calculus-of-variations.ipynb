{
 "cells": [
  {
   "cell_type": "markdown",
   "id": "1f3e6342",
   "metadata": {},
   "source": [
    "# \"[Calculus] CH04. Calculus of Variations \"\n",
    "> Calculus summary note.\n",
    "\n",
    "- toc: false\n",
    "- badges: false\n",
    "- comments: false\n",
    "- categories: [calculus]\n",
    "- hide_{github,colab,binder,deepnote}_badge: true"
   ]
  },
  {
   "cell_type": "markdown",
   "id": "6a1a44f0-4db4-4574-ae40-b586ca3fa045",
   "metadata": {
    "tags": []
   },
   "source": [
    "#### 4.0. Overview\n",
    "We have seen many types of functions like scalar, vector, matrix functions. However, some kinds of functions may take functions as input. For example, expectation function, variation function, and definite integral function are. Functionals are written as follows:\n",
    "$$\n",
    "J[f]\n",
    "$$\n",
    "In this time, we will consider the derivative to find the minimum and maximum of a functional briefly. "
   ]
  },
  {
   "cell_type": "markdown",
   "id": "6f08cfcd-334d-4826-99f9-5f2f1093f4a8",
   "metadata": {},
   "source": [
    "#### 4.1. Linear Approximation of Functional\n",
    "A linear approximation of a general multivariate function is as follows.\n",
    "$$\n",
    "F(\\mathbf{y} + \\mathbf{\\epsilon}) \\approx F(\\mathbf{y}) + \\nabla_\\mathbf{y} F(\\mathbf{y})^T \\mathbf{\\epsilon}.\n",
    "$$\n",
    "\n",
    "Suppose $y_i = y(x_i)$ and $\\epsilon_i = \\epsilon \\eta(x_i)$ where any function $\\eta$ and some small number $\\epsilon$.<br>\n",
    "Then,\n",
    "\n",
    "$$\n",
    "F(\\mathbf{y}(\\mathbf{x}) + \\epsilon \\begin{bmatrix}\n",
    "\\eta(x_1) \\\\\n",
    "\\vdots \\\\\n",
    "\\eta(x_n) \\\\\n",
    "\\end{bmatrix}) \\approx F(\\mathbf{y}(\\mathbf{x})) + \\epsilon \\nabla_\\mathbf{y} F^T \\begin{bmatrix}\n",
    "\\eta(x_1) \\\\\n",
    "\\vdots \\\\\n",
    "\\eta(x_n) \\\\\n",
    "\\end{bmatrix}.\n",
    "$$\n",
    "\n",
    "We can consider above linear approximation as function that takes a sequence as input and outputs a real number. Here, if we send $n$ to infinity, $F$ becomes not a function, but a functional function that takes a function $y$ as an input.<br>\n",
    "\n",
    "Then linear approximation of functional is\n",
    "\n",
    "$$\n",
    "F[y(x) + \\epsilon \\eta(x)] \\approx F[y(x)] + \\epsilon \\int \\frac{\\delta F}{\\delta y(x)} \\eta(x)dx.\n",
    "$$"
   ]
  },
  {
   "cell_type": "markdown",
   "id": "a105a2f5-4688-46b5-b614-fb7431a8c7c9",
   "metadata": {},
   "source": [
    "#### 4.2. Derivative of Functional\n",
    "##### Definition.4.1. Derivative of Functional\n",
    "Derivative of functional $J[y(x)] = \\int G(x, y)dx$ is defined as follow:\n",
    "\n",
    "$$\n",
    "\\frac{\\delta J}{\\delta y} = \\frac{\\partial G}{\\partial y} = x.\n",
    "$$\n"
   ]
  },
  {
   "cell_type": "markdown",
   "id": "db768147-fc87-42f2-9a1e-a02dd8fdeca4",
   "metadata": {},
   "source": [
    "##### Theorem.4.1. Euler-Lagrange Formula\n",
    "Let the functional\n",
    "$$\n",
    "F[y(x)] = \\int G(y, y^\\prime, x)dx\n",
    "$$\n",
    "be.<br>\n",
    "Then,\n",
    "\n",
    "$$\n",
    "\\frac{\\delta J}{\\delta y} = \\frac{\\partial G}{\\partial y} - \\frac{d}{dx} \\left( \\frac{\\partial G}{ \\partial y^\\prime } \\right)\n",
    "$$"
   ]
  },
  {
   "cell_type": "markdown",
   "id": "d19db0ce-84c0-4bab-8cca-90c277fcd1a1",
   "metadata": {},
   "source": [
    "__Ex)__ <br>\n",
    "\n",
    "$\\mathbb{E}[p(x)] = \\int_{-\\infty}^{\\infty} xp(x) dx$.<br>\n",
    "$G(x, p) = xp$.<br>\n",
    "Then,\n",
    "$$\n",
    "\\frac{\\delta \\mathbb{E}}{\\delta p(x)} = \\frac{\\partial G}{\\partial p(x)} = x.\n",
    "$$"
   ]
  },
  {
   "cell_type": "markdown",
   "id": "1d04dbb4-c829-49d5-b56b-cd6699169d4f",
   "metadata": {},
   "source": [
    "#### 4.3. Optimal Control\n",
    "Finding the independent function $y$ that makes this value the smallest when there is a functional $F$ is called __optimal control__.<br>\n",
    "In optimal control, it is necessary condition of optimal function, that is, \n",
    "\n",
    "$$\n",
    "\\frac{\\delta F}{\\delta y} [y^*(x)] = 0\n",
    "$$\n"
   ]
  }
 ],
 "metadata": {
  "kernelspec": {
   "display_name": "Python 3 (ipykernel)",
   "language": "python",
   "name": "python3"
  },
  "language_info": {
   "codemirror_mode": {
    "name": "ipython",
    "version": 3
   },
   "file_extension": ".py",
   "mimetype": "text/x-python",
   "name": "python",
   "nbconvert_exporter": "python",
   "pygments_lexer": "ipython3",
   "version": "3.9.7"
  }
 },
 "nbformat": 4,
 "nbformat_minor": 5
}

{
 "cells": [
  {
   "cell_type": "markdown",
   "id": "1f3e6342",
   "metadata": {},
   "source": [
    "# \"[Calculus] CH03. Taylor Expansion\"\n",
    "> Calculus summary note.\n",
    "\n",
    "- toc: false\n",
    "- badges: false\n",
    "- comments: false\n",
    "- categories: [calculus]\n",
    "- hide_{github,colab,binder,deepnote}_badge: true"
   ]
  },
  {
   "cell_type": "markdown",
   "id": "6a1a44f0-4db4-4574-ae40-b586ca3fa045",
   "metadata": {
    "tags": []
   },
   "source": [
    "#### 3.1. Mutivariate Taylor Polynomial\n",
    "##### Definition.3.1. First Order Taylor Polynomial(Linear Approximation)\n",
    "Let $f: \\mathbb{R}^n \\rightarrow \\mathbb{R}$ be a differentiable function.<br>\n",
    "Then first order taylor polynomial of $f$ at $\\mathbf{x}_0$ is\n",
    "\n",
    "$$\n",
    "P_1(\\mathbf{\\mathbf{x}}) = f(\\mathbf{x}_0) + (\\mathbf{x} - \\mathbf{x}_0)^T \\nabla_\\mathbf{x} f(\\mathbf{x}_0).\n",
    "$$\n"
   ]
  },
  {
   "cell_type": "markdown",
   "id": "5b3c178e-9809-4315-88f4-b6e2c441ca66",
   "metadata": {},
   "source": [
    "##### Definition.3.2. Second Order Taylor Polynomial\n",
    "Let $f: \\mathbb{R}^n \\rightarrow \\mathbb{R}$ be a twice differentiable function.<br>\n",
    "Then second order taylor polynomial of $f$ at $\\mathbf{x}_0$ is\n",
    "\n",
    "$$\n",
    "P_2(\\mathbf{\\mathbf{x}}) = f(\\mathbf{x}_0) + (\\mathbf{x} - \\mathbf{x}_0)^T \\nabla_\\mathbf{x} f(\\mathbf{x}_0) + \\frac{1}{2!} (\\mathbf{x} - \\mathbf{x}_0)^T \\nabla_\\mathbf{x}^2 f(\\mathbf{x}_0) (\\mathbf{x} - \\mathbf{x}_0)\n",
    "$$"
   ]
  },
  {
   "cell_type": "markdown",
   "id": "e5f2464f-0498-49e5-b32e-a9c89c6a0692",
   "metadata": {},
   "source": [
    "We don't need more than this."
   ]
  }
 ],
 "metadata": {
  "kernelspec": {
   "display_name": "Python 3 (ipykernel)",
   "language": "python",
   "name": "python3"
  },
  "language_info": {
   "codemirror_mode": {
    "name": "ipython",
    "version": 3
   },
   "file_extension": ".py",
   "mimetype": "text/x-python",
   "name": "python",
   "nbconvert_exporter": "python",
   "pygments_lexer": "ipython3",
   "version": "3.8.10"
  }
 },
 "nbformat": 4,
 "nbformat_minor": 5
}

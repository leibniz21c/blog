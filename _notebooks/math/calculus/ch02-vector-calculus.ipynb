{
 "cells": [
  {
   "cell_type": "markdown",
   "id": "1f3e6342",
   "metadata": {},
   "source": [
    "# \"[Calculus] CH02. Vector Calculus\"\n",
    "> Calculus summary note.\n",
    "\n",
    "- toc: false\n",
    "- badges: false\n",
    "- comments: false\n",
    "- categories: [calculus]\n",
    "- hide_{github,colab,binder,deepnote}_badge: true"
   ]
  },
  {
   "cell_type": "markdown",
   "id": "6a1a44f0-4db4-4574-ae40-b586ca3fa045",
   "metadata": {
    "tags": []
   },
   "source": [
    "#### 2.0. Overview\n",
    "For $f: \\mathbb{R}^n \\rightarrow \\mathbb{R}$, we know that $\\nabla f : \\mathbb{R}^n \\rightarrow \\mathbb{R}^n$.<br>\n",
    "For example, \n",
    "\n",
    "$$\n",
    "\\begin{matrix}\n",
    "\\nabla_\\mathbf{w} (\\mathbf{x}^T \\mathbf{w}) = \\mathbf{x} \\\\\n",
    "\\nabla_\\mathbf{w} (\\mathbf{w}^T R \\mathbf{w}) = (R + R^T)\\mathbf{w} \\\\\n",
    "\\end{matrix}\n",
    "$$\n",
    "\n",
    "In this time, we consider about derivative of vector functions, matrix functions, and second derivative of multi-variate functions."
   ]
  },
  {
   "cell_type": "markdown",
   "id": "6aacc562-53e6-432f-9d51-52309762bab2",
   "metadata": {},
   "source": [
    "#### 2.1. Gradient of Various Functions"
   ]
  },
  {
   "cell_type": "markdown",
   "id": "5c441ac2-3479-49e9-b16f-c7378811ccef",
   "metadata": {
    "tags": []
   },
   "source": [
    "##### Definition.2.1. Gradient of a Scalar Function with Respect to a Vector\n",
    "Let the function $ f  :  \\mathbb{R}^m \\rightarrow \\mathbb{R} $ be.<br>\n",
    "$$\n",
    "\\frac{\\partial f(\\mathbf{w})}{\\partial \\mathbf{w}} = \\nabla_\\mathbf{w} f(\\mathbf{w}) = \n",
    "\\begin{bmatrix}\n",
    "\\frac{\\partial f(\\mathbf{w})}{\\partial w_1} \\\\\n",
    "\\frac{\\partial f(\\mathbf{w})}{\\partial w_2} \\\\\n",
    "\\cdots \\\\\n",
    "\\frac{\\partial f(\\mathbf{w})}{\\partial w_m} \\\\\n",
    "\\end{bmatrix}_{m \\times 1}.\n",
    "$$"
   ]
  },
  {
   "cell_type": "markdown",
   "id": "25f8acb9-5182-4c3b-a118-25111e253ad6",
   "metadata": {},
   "source": [
    "##### Example.2.1. \n",
    "- $\\nabla_\\mathbf{w} (\\mathbf{x}^T \\mathbf{w}) = \\mathbf{x}$\n",
    "- $\\nabla_\\mathbf{w} (\\mathbf{w}^T R \\mathbf{w}) = (R + R^T)\\mathbf{w}$"
   ]
  },
  {
   "cell_type": "markdown",
   "id": "06aa068b-2002-4ec6-836f-4704689ae248",
   "metadata": {},
   "source": [
    "##### Definition.2.2. Gradient of a Vector Function with Respect to a Vector\n",
    "Let the function $ \\mathbf{g}  :  \\mathbb{R}^m \\rightarrow \\mathbb{R}^n $ be.<br>\n",
    "If $ \\mathbf{g}(\\mathbf{w}) = $ $ \\begin{bmatrix}\n",
    "g_1(\\mathbf{w}) \\\\\n",
    "g_2(\\mathbf{w}) \\\\\n",
    "\\vdots \\\\\n",
    "g_n(\\mathbf{w}) \\\\\n",
    "\\end{bmatrix} $ and $ w \\,\\ \\text{be a} \\,\\ m \\times 1 \\,\\ \\text{vector}$,<br>\n",
    "\n",
    "$$\n",
    "\\frac{\\partial \\mathbf{g}(\\mathbf{w})}{\\partial \\mathbf{w}} = \\nabla_\\mathbf{w} \\mathbf{g}(\\mathbf{w}) = \n",
    "\\begin{bmatrix}\n",
    "\\nabla_\\mathbf{w} g_1(\\mathbf{w})^T \\\\\n",
    "\\nabla_\\mathbf{w} g_2(\\mathbf{w})^T \\\\\n",
    "\\vdots \\\\\n",
    "\\nabla_\\mathbf{w} g_n(\\mathbf{w})^T \\\\\n",
    "\\end{bmatrix} =\n",
    "\\begin{bmatrix}\n",
    "\\frac{\\partial g_1(\\mathbf{w})}{\\partial w_1} & \\frac{\\partial g_1(\\mathbf{w})}{\\partial w_2} & \\cdots & \\frac{\\partial g_1(\\mathbf{w})}{\\partial w_m} \\\\\n",
    "\\frac{\\partial g_2(\\mathbf{w})}{\\partial w_1} & \\frac{\\partial g_2(\\mathbf{w})}{\\partial w_2} & \\cdots & \\frac{\\partial g_2(\\mathbf{w})}{\\partial w_m} \\\\\n",
    "\\vdots & \\vdots & \\ddots & \\vdots \\\\\n",
    "\\frac{\\partial g_n(\\mathbf{w})}{\\partial w_1} & \\frac{\\partial g_n(\\mathbf{w})}{\\partial w_2} & \\cdots & \\frac{\\partial g_n(\\mathbf{w})}{\\partial w_m} \\\\\n",
    "\\end{bmatrix}_{n \\times m}, \\,\\ \\text{and it is called Jacobian.}\n",
    "$$ "
   ]
  },
  {
   "cell_type": "markdown",
   "id": "05d784d4-c852-45f9-9ee0-558e9611fd56",
   "metadata": {},
   "source": [
    "##### Example.2.2. \n",
    "- $\\nabla_\\mathbf{w} (A\\mathbf{w}) = A$"
   ]
  },
  {
   "cell_type": "markdown",
   "id": "899bb0d7-810b-4b7b-a471-fec2992b840d",
   "metadata": {},
   "source": [
    "##### Definition.2.3. Hessian Matrix of a Scalar Function with Respect to a Vector\n",
    "Let the function $ f  :  \\mathbb{R}^m \\rightarrow \\mathbb{R} $ and $ \\mathbf{w} \\,\\ \\text{be a} \\,\\ m \\times 1 $ vector.<br>\n",
    "\n",
    "$$\n",
    "H = \\frac{\\partial}{\\partial \\mathbf{w}}\\nabla_\\mathbf{w}f(\\mathbf{w}) = \\nabla_\\mathbf{w}^2 f(\\mathbf{w}) = \n",
    "\\begin{bmatrix}\n",
    "\\frac{\\partial ^2f(\\mathbf{w})}{\\partial w_1^2} & \\frac{\\partial ^2f(\\mathbf{w})}{\\partial w_1\\partial w_2} & \\cdots & \\frac{\\partial ^2f(\\mathbf{w})}{\\partial w_1\\partial w_m} \\\\ \n",
    "\\frac{\\partial ^2f(\\mathbf{w})}{\\partial w_2\\partial w_1} & \\frac{\\partial ^2f(\\mathbf{w})}{\\partial w_2^2} & \\cdots & \\frac{\\partial ^2f(\\mathbf{w})}{\\partial w_2\\partial w_m} \\\\\n",
    "\\vdots & \\vdots & \\ddots & \\vdots \\\\\n",
    "\\frac{\\partial ^2f(\\mathbf{w})}{\\partial w_m\\partial w_1} & \\frac{\\partial ^2f(\\mathbf{w})}{\\partial w_m\\partial w_2} & \\cdots & \\frac{\\partial ^2f(\\mathbf{w})}{\\partial w_m^2} \\\\\n",
    "\\end{bmatrix}_{m \\times m}\n",
    "$$\n",
    "\n",
    "- Hassian matrix is symmetric."
   ]
  },
  {
   "cell_type": "markdown",
   "id": "61b979f7-5820-4cbf-9ee3-70d6a3d21e08",
   "metadata": {},
   "source": [
    "##### Definition.2.4. Gradient of a Scalar Function with Respect to a Matrix\n",
    "Let the function $ f  :  \\mathbb{R}^{m \\times n} \\rightarrow \\mathbb{R} $ be a function.<br>\n",
    "\n",
    "$$\n",
    "\\frac{\\partial f(W)}{\\partial W} = \\nabla_W f(W) = \\begin{bmatrix}\n",
    "\\frac{\\partial f(W)}{\\partial w_{11}} & \\frac{\\partial f(W)}{\\partial w_{12}} & \\cdots & \\frac{\\partial f(W)}{\\partial w_{1n}} \\\\\n",
    "\\frac{\\partial f(W)}{\\partial w_{21}} & \\frac{\\partial f(W)}{\\partial w_{22}} & \\cdots & \\frac{\\partial f(W)}{\\partial w_{2n}} \\\\\n",
    "\\vdots & \\vdots & \\ddots & \\vdots \\\\\n",
    "\\frac{\\partial f(W)}{\\partial w_{m1}} & \\frac{\\partial f(W)}{\\partial w_{m2}} & \\cdots & \\frac{\\partial f(W)}{\\partial w_{mn}} \\\\\n",
    "\\end{bmatrix}_{m \\times n}\n",
    "$$"
   ]
  },
  {
   "cell_type": "markdown",
   "id": "91f4b168-5383-4b98-9efb-3e5bb141b78e",
   "metadata": {},
   "source": [
    "##### Example.2.3. \n",
    "- $\\nabla_\\mathbf{W} (trace(XW)) = X^T$\n",
    "- Let $W$ be a $n \\times m$ matrix and $R$ be a $n \\times n$ matrix.\n",
    "$$\n",
    "\\nabla_W (W^TRW) = (R + R^T)W\n",
    "$$\n",
    "- $\\nabla_W (\\log |W|) = (W^{-1})^T$"
   ]
  }
 ],
 "metadata": {
  "kernelspec": {
   "display_name": "Python 3",
   "language": "python",
   "name": "python3"
  },
  "language_info": {
   "codemirror_mode": {
    "name": "ipython",
    "version": 3
   },
   "file_extension": ".py",
   "mimetype": "text/x-python",
   "name": "python",
   "nbconvert_exporter": "python",
   "pygments_lexer": "ipython3",
   "version": "3.8.2"
  }
 },
 "nbformat": 4,
 "nbformat_minor": 5
}

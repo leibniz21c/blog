{
 "cells": [
  {
   "cell_type": "markdown",
   "id": "251fd9a4-0f29-4862-aa66-857c313e79aa",
   "metadata": {},
   "source": [
    "# \"[OptimizationTheory] CH02. Search based Optimization\"\n",
    "> Optimization theory summary note.\n",
    "\n",
    "- toc: false\n",
    "- badges: false\n",
    "- comments: false\n",
    "- categories: [optimization-theory]\n",
    "- hide_{github,colab,binder,deepnote}_badge: true"
   ]
  },
  {
   "cell_type": "markdown",
   "id": "6a1a44f0-4db4-4574-ae40-b586ca3fa045",
   "metadata": {
    "tags": []
   },
   "source": [
    "#### 2.1. Grid Search\n",
    "\n",
    "$$\n",
    "\\mathbf{x}^* = \\underset{\\mathbf{x}}{\\mathrm{argmin}} \\,\\ f(\\mathbf{x}) \\,\\ \\text{where} \\,\\ f:(0,1)^n \\rightarrow \\mathbb{R} \\,\\ \\text{and} \\,\\ \\mathbf{x} \\in \\{(a_1, a_2, \\cdots, a_n) : a_1, a_2, \\cdots, a_n \\in \\{0, \\frac{1}{m}, \\frac{2}{m}, \\cdots, \\frac{m - 1}{m}\\} \\}, \\,\\ m \\in \\mathbb{N}\n",
    "$$\n",
    "\n",
    "__Example)__<br>\n",
    "- In KNN classification, we can obtain $k$ with grid search.\n",
    "- In SVM classification with RBF kernel, we can obtain $c$ and $\\gamma$."
   ]
  },
  {
   "cell_type": "code",
   "execution_count": 1,
   "id": "6dc3f1cf-a287-480d-9803-54f9bd42ee9b",
   "metadata": {},
   "outputs": [
    {
     "data": {
      "text/plain": [
       "{'mean_fit_time': array([0.00038528, 0.00042386, 0.00036063, 0.00038018]),\n",
       " 'std_fit_time': array([4.15368686e-05, 6.48989211e-06, 1.46394444e-05, 7.80994636e-06]),\n",
       " 'mean_score_time': array([0.00018463, 0.00020938, 0.00017271, 0.00018597]),\n",
       " 'std_score_time': array([1.26002358e-05, 1.30935003e-06, 6.32595976e-07, 3.16657214e-06]),\n",
       " 'param_C': masked_array(data=[1, 1, 10, 10],\n",
       "              mask=[False, False, False, False],\n",
       "        fill_value='?',\n",
       "             dtype=object),\n",
       " 'param_kernel': masked_array(data=['linear', 'rbf', 'linear', 'rbf'],\n",
       "              mask=[False, False, False, False],\n",
       "        fill_value='?',\n",
       "             dtype=object),\n",
       " 'params': [{'C': 1, 'kernel': 'linear'},\n",
       "  {'C': 1, 'kernel': 'rbf'},\n",
       "  {'C': 10, 'kernel': 'linear'},\n",
       "  {'C': 10, 'kernel': 'rbf'}],\n",
       " 'split0_test_score': array([0.96666667, 0.96666667, 1.        , 0.96666667]),\n",
       " 'split1_test_score': array([1.        , 0.96666667, 1.        , 1.        ]),\n",
       " 'split2_test_score': array([0.96666667, 0.96666667, 0.9       , 0.96666667]),\n",
       " 'split3_test_score': array([0.96666667, 0.93333333, 0.96666667, 0.96666667]),\n",
       " 'split4_test_score': array([1., 1., 1., 1.]),\n",
       " 'mean_test_score': array([0.98      , 0.96666667, 0.97333333, 0.98      ]),\n",
       " 'std_test_score': array([0.01632993, 0.02108185, 0.03887301, 0.01632993]),\n",
       " 'rank_test_score': array([1, 4, 3, 1], dtype=int32)}"
      ]
     },
     "execution_count": 1,
     "metadata": {},
     "output_type": "execute_result"
    }
   ],
   "source": [
    "from sklearn.model_selection import GridSearchCV\n",
    "from sklearn import svm, datasets\n",
    "\n",
    "iris = datasets.load_iris()\n",
    "params = {\n",
    "    'kernel': ('linear', 'rbf'),\n",
    "    'C': [1, 10]\n",
    "}\n",
    "\n",
    "svc = svm.SVC()\n",
    "clf = GridSearchCV(svc, params)\n",
    "clf.fit(iris.data, iris.target)\n",
    "clf.cv_results_"
   ]
  },
  {
   "cell_type": "code",
   "execution_count": 2,
   "id": "235c66e7-c520-45f8-8e1d-cc052861d924",
   "metadata": {},
   "outputs": [
    {
     "data": {
      "text/plain": [
       "{'C': 1, 'kernel': 'linear'}"
      ]
     },
     "execution_count": 2,
     "metadata": {},
     "output_type": "execute_result"
    }
   ],
   "source": [
    "clf.best_params_"
   ]
  },
  {
   "cell_type": "markdown",
   "id": "5685f1fd-36ab-487a-9b17-d704ae7f2473",
   "metadata": {},
   "source": [
    "#### 2.2. Random Search\n",
    "\n",
    "Random search randomly selects a point to search for. It is generally faster than grid search."
   ]
  },
  {
   "cell_type": "code",
   "execution_count": 3,
   "id": "14769d19-9fe2-4a2e-8d8d-01e10a446bbc",
   "metadata": {},
   "outputs": [
    {
     "data": {
      "text/plain": [
       "{'mean_fit_time': array([0.0004076 , 0.00036163, 0.00039191, 0.00040193, 0.00035834]),\n",
       " 'std_fit_time': array([2.62769725e-05, 5.79195235e-06, 4.55473096e-06, 1.88120569e-05,\n",
       "        1.21943587e-05]),\n",
       " 'mean_score_time': array([0.00020247, 0.00017519, 0.00019407, 0.00019431, 0.00019393]),\n",
       " 'std_score_time': array([1.38532479e-05, 6.97552626e-07, 2.92001932e-06, 2.64633883e-06,\n",
       "        3.75817868e-05]),\n",
       " 'param_kernel': masked_array(data=['rbf', 'linear', 'rbf', 'rbf', 'linear'],\n",
       "              mask=[False, False, False, False, False],\n",
       "        fill_value='?',\n",
       "             dtype=object),\n",
       " 'param_C': masked_array(data=[8, 4, 4, 5, 6],\n",
       "              mask=[False, False, False, False, False],\n",
       "        fill_value='?',\n",
       "             dtype=object),\n",
       " 'params': [{'kernel': 'rbf', 'C': 8},\n",
       "  {'kernel': 'linear', 'C': 4},\n",
       "  {'kernel': 'rbf', 'C': 4},\n",
       "  {'kernel': 'rbf', 'C': 5},\n",
       "  {'kernel': 'linear', 'C': 6}],\n",
       " 'split0_test_score': array([0.96666667, 0.96666667, 0.96666667, 0.96666667, 1.        ]),\n",
       " 'split1_test_score': array([1., 1., 1., 1., 1.]),\n",
       " 'split2_test_score': array([1.        , 0.93333333, 0.96666667, 1.        , 0.9       ]),\n",
       " 'split3_test_score': array([0.96666667, 0.96666667, 0.96666667, 0.96666667, 0.96666667]),\n",
       " 'split4_test_score': array([1., 1., 1., 1., 1.]),\n",
       " 'mean_test_score': array([0.98666667, 0.97333333, 0.98      , 0.98666667, 0.97333333]),\n",
       " 'std_test_score': array([0.01632993, 0.02494438, 0.01632993, 0.01632993, 0.03887301]),\n",
       " 'rank_test_score': array([1, 4, 3, 1, 4], dtype=int32)}"
      ]
     },
     "execution_count": 3,
     "metadata": {},
     "output_type": "execute_result"
    }
   ],
   "source": [
    "from sklearn import svm, datasets\n",
    "from sklearn.model_selection import RandomizedSearchCV\n",
    "\n",
    "iris = datasets.load_iris()\n",
    "params = {\n",
    "    'kernel': ('linear', 'rbf'),\n",
    "    'C': [1, 2, 3, 4, 5, 6, 7, 8, 9, 10]\n",
    "}\n",
    "\n",
    "svc = svm.SVC()\n",
    "clf = RandomizedSearchCV(svc, params, n_iter=5)\n",
    "clf.fit(iris.data, iris.target)\n",
    "clf.cv_results_"
   ]
  },
  {
   "cell_type": "code",
   "execution_count": 4,
   "id": "a21a4402-7076-4886-87af-6a77714d10ef",
   "metadata": {},
   "outputs": [
    {
     "data": {
      "text/plain": [
       "{'kernel': 'rbf', 'C': 8}"
      ]
     },
     "execution_count": 4,
     "metadata": {},
     "output_type": "execute_result"
    }
   ],
   "source": [
    "clf.best_params_"
   ]
  },
  {
   "cell_type": "markdown",
   "id": "05a84b0d-5511-4bc0-b221-01fc4e4e8395",
   "metadata": {
    "tags": []
   },
   "source": [
    "#### 2.3. Baysian Optimization\n",
    "Bayesian optimization is a sequential design strategy for global optimization of black-box functions that does not assume any functional forms. The above methods assume that the results of each trial are independent of each other. However, bayesian optimization optimizes by selecting the next candidate point using the results of each trial."
   ]
  },
  {
   "cell_type": "code",
   "execution_count": 5,
   "id": "af2aad80-1b7f-47fe-bc76-b709d54452c2",
   "metadata": {},
   "outputs": [],
   "source": [
    "def black_box_function(x, y):\n",
    "    return -x ** 2 - (y - 1) ** 2 + 1"
   ]
  },
  {
   "cell_type": "code",
   "execution_count": 6,
   "id": "48b253af-6585-4181-9835-9b74e4a2502e",
   "metadata": {},
   "outputs": [],
   "source": [
    "from bayes_opt import BayesianOptimization\n",
    "\n",
    "# Bounded region of parameter space\n",
    "pbounds = {'x': (2, 4), 'y': (-3, 3)}\n",
    "\n",
    "optimizer = BayesianOptimization(\n",
    "    f=black_box_function,\n",
    "    pbounds=pbounds,\n",
    "    random_state=1,\n",
    ")"
   ]
  },
  {
   "cell_type": "code",
   "execution_count": 7,
   "id": "440fc71a-9ced-40bc-9410-3bd6c48bb21a",
   "metadata": {},
   "outputs": [
    {
     "name": "stdout",
     "output_type": "stream",
     "text": [
      "|   iter    |  target   |     x     |     y     |\n",
      "-------------------------------------------------\n",
      "| \u001b[0m 1       \u001b[0m | \u001b[0m-7.135   \u001b[0m | \u001b[0m 2.834   \u001b[0m | \u001b[0m 1.322   \u001b[0m |\n",
      "| \u001b[0m 2       \u001b[0m | \u001b[0m-7.78    \u001b[0m | \u001b[0m 2.0     \u001b[0m | \u001b[0m-1.186   \u001b[0m |\n",
      "| \u001b[95m 3       \u001b[0m | \u001b[95m-7.11    \u001b[0m | \u001b[95m 2.218   \u001b[0m | \u001b[95m-0.7867  \u001b[0m |\n",
      "| \u001b[0m 4       \u001b[0m | \u001b[0m-12.4    \u001b[0m | \u001b[0m 3.66    \u001b[0m | \u001b[0m 0.9608  \u001b[0m |\n",
      "| \u001b[95m 5       \u001b[0m | \u001b[95m-6.999   \u001b[0m | \u001b[95m 2.23    \u001b[0m | \u001b[95m-0.7392  \u001b[0m |\n",
      "=================================================\n"
     ]
    }
   ],
   "source": [
    "optimizer.maximize(\n",
    "    init_points=2,\n",
    "    n_iter=3,\n",
    ")"
   ]
  },
  {
   "cell_type": "code",
   "execution_count": 8,
   "id": "404cf7ad-a968-466a-9bfc-f3e24dc4df5b",
   "metadata": {},
   "outputs": [
    {
     "data": {
      "text/plain": [
       "[{'target': -7.135455292718879,\n",
       "  'params': {'x': 2.8340440094051482, 'y': 1.3219469606529488}},\n",
       " {'target': -7.779531005607566,\n",
       "  'params': {'x': 2.0002287496346898, 'y': -1.1860045642089614}},\n",
       " {'target': -7.109925819441113,\n",
       "  'params': {'x': 2.2175526295255183, 'y': -0.7867249801593896}},\n",
       " {'target': -12.397162416009818,\n",
       "  'params': {'x': 3.660003815774634, 'y': 0.9608275029525108}},\n",
       " {'target': -6.999472814518675,\n",
       "  'params': {'x': 2.2303920156083024, 'y': -0.7392021938893159}}]"
      ]
     },
     "execution_count": 8,
     "metadata": {},
     "output_type": "execute_result"
    }
   ],
   "source": [
    "optimizer.res"
   ]
  },
  {
   "cell_type": "code",
   "execution_count": 9,
   "id": "35a06aad-543a-497f-a42a-224cc3ebc5ab",
   "metadata": {},
   "outputs": [
    {
     "data": {
      "text/plain": [
       "{'target': -6.999472814518675,\n",
       " 'params': {'x': 2.2303920156083024, 'y': -0.7392021938893159}}"
      ]
     },
     "execution_count": 9,
     "metadata": {},
     "output_type": "execute_result"
    }
   ],
   "source": [
    "optimizer.max"
   ]
  },
  {
   "cell_type": "markdown",
   "id": "a112087f-d8f4-4897-a562-17ea501c1410",
   "metadata": {},
   "source": [
    "#### 2.4. Golden-Section Search\n",
    "\n",
    "Golden-section search algorithm is search algorithm for finding a minumum on an interval $[x_l, x_u]$ with a single minimum(unimodal interval). It uses the golden ratio $\\phi = 1.6180 \\cdots $ to determine location of two interior points $x_1$ and $x_2$. By using the golden ratio, one of the interior points can be re-used in the next iteration.\n",
    "\n",
    "$$\n",
    "\\begin{matrix}\n",
    "\\text{Let} \\,\\ d = (\\phi - 1)(x_u - x_l) \\\\\n",
    "x_1 = x_l + d, \\,\\ x_2 = x_u - d\n",
    "\\end{matrix}\n",
    "$$"
   ]
  },
  {
   "cell_type": "markdown",
   "id": "ad551d26-17e7-4b21-8607-2b0143588b31",
   "metadata": {},
   "source": [
    "Similarily, compute new $d$ about $x_1$ and $x_2$. Afterwards, it repeats the specified number of times or until the relative error is lower than the specified threshold."
   ]
  },
  {
   "cell_type": "code",
   "execution_count": 11,
   "id": "a43c1c2e-1cf3-4b19-9db6-772ff496d531",
   "metadata": {},
   "outputs": [
    {
     "data": {
      "text/plain": [
       "1.000000003917054"
      ]
     },
     "execution_count": 11,
     "metadata": {},
     "output_type": "execute_result"
    }
   ],
   "source": [
    "from scipy import optimize\n",
    "\n",
    "def f(x):\n",
    "    return (x - 1)**2\n",
    "\n",
    "minimum = optimize.golden(f, brack=(0, 5))\n",
    "minimum"
   ]
  }
 ],
 "metadata": {
  "kernelspec": {
   "display_name": "Python 3 (ipykernel)",
   "language": "python",
   "name": "python3"
  },
  "language_info": {
   "codemirror_mode": {
    "name": "ipython",
    "version": 3
   },
   "file_extension": ".py",
   "mimetype": "text/x-python",
   "name": "python",
   "nbconvert_exporter": "python",
   "pygments_lexer": "ipython3",
   "version": "3.8.10"
  }
 },
 "nbformat": 4,
 "nbformat_minor": 5
}

{
 "cells": [
  {
   "cell_type": "markdown",
   "id": "251fd9a4-0f29-4862-aa66-857c313e79aa",
   "metadata": {},
   "source": [
    "# CH01. Search Based Optimization"
   ]
  },
  {
   "cell_type": "markdown",
   "id": "6a1a44f0-4db4-4574-ae40-b586ca3fa045",
   "metadata": {
    "tags": []
   },
   "source": [
    "#### 1.0. Optimization\n",
    "> Optimization is the process of creating something that is as effective as possible. From a mathematical perspective, optimization deals with finding the maxima and minima of a function that depends on one or more variables.\n",
    "\n",
    "For example, determin the optimum analytically\n",
    "\n",
    "$$\n",
    "z = z_0 + \\frac{m}{c}(v_0 + \\frac{mg}{c})(-\\exp(-(c/m)t)) - \\frac{mg}{c}t \\quad \\text{where} \\,\\ g = 9.81, \\,\\ z_0 = 100, \\,\\ v_0 = 55, \\,\\ m = 80, \\,\\ c = 15\n",
    "$$\n"
   ]
  }
 ],
 "metadata": {
  "kernelspec": {
   "display_name": "Python 3 (ipykernel)",
   "language": "python",
   "name": "python3"
  },
  "language_info": {
   "codemirror_mode": {
    "name": "ipython",
    "version": 3
   },
   "file_extension": ".py",
   "mimetype": "text/x-python",
   "name": "python",
   "nbconvert_exporter": "python",
   "pygments_lexer": "ipython3",
   "version": "3.8.10"
  }
 },
 "nbformat": 4,
 "nbformat_minor": 5
}

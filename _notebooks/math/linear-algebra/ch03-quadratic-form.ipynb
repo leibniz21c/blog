{
 "cells": [
  {
   "cell_type": "markdown",
   "id": "251fd9a4-0f29-4862-aa66-857c313e79aa",
   "metadata": {},
   "source": [
    "# \"[LinearAlgebra] CH03. Quadratic Form\"\n",
    "> Linear algebra summary note.\n",
    "\n",
    "- toc: false\n",
    "- badges: false\n",
    "- comments: false\n",
    "- categories: [linear-algebra]\n",
    "- hide_{github,colab,binder,deepnote}_badge: true"
   ]
  },
  {
   "cell_type": "markdown",
   "id": "6a1a44f0-4db4-4574-ae40-b586ca3fa045",
   "metadata": {
    "tags": []
   },
   "source": [
    "#### 3.1. Quadratic Form"
   ]
  },
  {
   "cell_type": "markdown",
   "id": "bc39f28a-a4c6-4105-b114-1b3bcfde665d",
   "metadata": {},
   "source": [
    "##### Definition.3.1.\n",
    "$n \\times n$ 대칭행렬 $A = [a_{ij}]$와 벡터 $\\mathbf{x} = [x_1 \\,\\ x_2 \\,\\ \\cdots \\,\\ x_n]^T \\in \\mathbb{R}^n$에 대해서 \n",
    "\n",
    "$$\n",
    "q(\\mathbf{x}) = \\mathbf{x}^T A \\mathbf{x} = \\sum_{i = 1}^{n} \\sum_{j = 1}^{n} a_{ij} x_i x_j\n",
    "$$\n",
    "\n",
    "일 때, $A$를 $q(\\mathbf{x})$의 계수행렬(coefficient matrix)이라고 하며 $q(\\mathbf{x})$를 계수행렬이 $A$인 이차형식(quadratic form)이라고 하고, $x_1, \\,\\ x_2, \\,\\ \\cdots , \\,\\ x_n $을 $q(\\mathbf{x})$의 변수(variable)라고 하며 $\\mathbf{x}$를 변수 벡터라고 한다.<br><br>\n",
    "\n",
    "__Remark__\n",
    "\n",
    "1. $q(\\mathbf{x}) = \\mathbf{x}^\\mathbf{x} A \\mathbf{x} = < \\mathbf{x}, A\\mathbf{x} > = \\sum_{i = 1}^n a_{ii}x_i^2 + 2\\sum_{i \\neq j} a_{ij} x_i x_j$\n",
    "2. $n$개의 실변수를 가지는 이차방정식은 다음과 같다."
   ]
  },
  {
   "cell_type": "markdown",
   "id": "8d14eaab-f274-4c54-92fd-86c4841ec592",
   "metadata": {},
   "source": [
    "$$\n",
    "\\begin{matrix}\n",
    "f(\\mathbf{x}) = \\sum_{i = 1}^n \\sum_{j = 1}^n a_{ij}x_ix_j + \\sum_{i = 1}^n b_ix_i + c = 0 \\quad \\text{or} \\\\\n",
    "f(\\mathbf{x}) = \\mathbf{x}^TA\\mathbf{x} + \\mathbf{b}^T \\mathbf{x} + c = 0 \\\\\n",
    "\\end{matrix}\n",
    "$$\n",
    "위의 식에서 $\\mathbf{b}^T \\mathbf{x} = \\sum_{i = 1}^n b_ix_i$를 $f(\\mathbf{x})$의 일차형식(linear form)이라고 한다."
   ]
  },
  {
   "cell_type": "markdown",
   "id": "ef8636a8-eef6-4375-b1e1-40a89ea8084f",
   "metadata": {},
   "source": [
    "3. $A$가 대칭행렬로 규정된 이유는 다음과 같다.\n",
    "\n",
    "만약 $A$가 정방행렬이라면, $A = S + T \\quad \\text{where} \\,\\ S \\,\\ \\text{is a symetric matrix, and} \\,\\ T \\,\\ \\text{is a skew-symetric matrix.}$<br>\n",
    "$$\n",
    "\\begin{matrix}\n",
    "\\mathbf{x}^TT\\mathbf{x} &= (\\mathbf{x}^TT\\mathbf{x})^T  \\quad (\\because \\,\\ \\mathbf{x}^TT\\mathbf{x} \\in R) \\\\\n",
    "        &= \\mathbf{x}^TT^T\\mathbf{x} \\\\\n",
    "        &= - \\mathbf{x}^TT\\mathbf{x} \\\\\n",
    "\\end{matrix} \n",
    "$$\n",
    "\n",
    "$$\n",
    "\\therefore \\quad q(\\mathbf{x}) = \\mathbf{x}^TA\\mathbf{x} = \\mathbf{x}^TS\\mathbf{x}\n",
    "$$"
   ]
  },
  {
   "cell_type": "markdown",
   "id": "02a85825-3cdd-4995-aed2-f80904f31d5c",
   "metadata": {},
   "source": [
    "##### Theorem.3.1.\n",
    "$n \\times n$ 대칭행렬 $A$에 대한 이차형식 $q(\\mathbf{x}) = \\mathbf{x}^T A \\mathbf{x}$는 적당한 직교행렬 $P$를 이용하여 변수벡터를 $\\mathbf{x} = P\\mathbf{y}$로 변환하여, \n",
    "\n",
    "$$\n",
    "g(\\mathbf{y}) = \\lambda_1 y_1^2 + \\lambda_2 y_2^2 + \\cdots + \\lambda_n y_n^2\n",
    "$$\n",
    "\n",
    "로 고칠 수 있다. 단, $\\mathbf{y} = [y_1 \\,\\ y_2 \\,\\ \\cdots \\,\\ y_n]^T \\in \\mathbb{R}^n$이고, $\\lambda_1, \\,\\ \\lambda_2, \\,\\ \\cdots, \\,\\ \\lambda_n$은 $q(\\mathbf{x})$의 계수행렬 $A$의 고유치이다.\n",
    "\n",
    "__Proof.__ <br>\n",
    "Trivial."
   ]
  },
  {
   "cell_type": "markdown",
   "id": "b8734013-6bb9-4fd0-bb5f-3cf531318594",
   "metadata": {},
   "source": [
    "##### Definition.3.2. Problem of Principal Axes and Standard Form\n",
    "Theorem.3.1. 에서 이차형식 \n",
    "\n",
    "$$\n",
    "q(\\mathbf{x}) = \\mathbf{x}^T A \\mathbf{x} \\quad \\cdots (1)\n",
    "$$\n",
    "\n",
    "을 $\\mathbf{x}$의 좌표 $(x_1, \\,\\ x_2, \\,\\ \\cdots, \\,\\ x_n)$을 적당히 변환하여 \n",
    "\n",
    "$$\n",
    "g(\\mathbf{y}) = \\lambda_1 y_1^2 + \\lambda_2 y_2^2 + \\cdots + \\lambda_n y_n^2 \\quad \\cdots (2)\n",
    "$$\n",
    "\n",
    "로 고치는 문제는 응용상 매우 중요하다. 이 문제를 이차형식의 주축문제(problem of principal axes)라고 한다. <br>\n",
    "그리고 이차형식 $(2)$를 이차형식 $(1)$의 표준형(standard form)이라고 한다."
   ]
  },
  {
   "cell_type": "markdown",
   "id": "42e7c32d-55b8-4cd0-85be-8f5a903c3ed0",
   "metadata": {},
   "source": [
    "##### Theorem.3.2.\n",
    "계수행렬이 $n \\times n$ 대칭행렬 $A$인 이차형식 $f(\\mathbf{x}) = \\mathbf{x}^T A \\mathbf{x}$의 변수벡터 $\\mathbf{x}$를 직교행렬 $P$로 변환하여 표준형으로 고쳤을 때, 그 계수들 중에서 양인 것의 개수 $p$와 음인 것의 개수 $q$는 $f(\\mathbf{x})$를 표준형으로 고치는 방법에 관계없이 일정하다.\n",
    "\n",
    "__Proof.__ <br>\n",
    "Trivial."
   ]
  },
  {
   "cell_type": "markdown",
   "id": "1c3d701a-1842-4f3b-a5be-3056380974b7",
   "metadata": {},
   "source": [
    "##### Definition.3.3. Positive Definite Quadratic Form and Matrix\n",
    "계수행렬이 대칭행렬 $A$인 이차형식 $f(\\mathbf{x}) = \\mathbf{x}^T A \\mathbf{x}$를 표준형으로 고쳐서, 그 계수들 중에서 양인 것의 개수를 $p$, 음인 것의 개수를 $q$라고 할 때, $(p, q)$를 $f(\\mathbf{x})$ 또는 $A$의 부호수(number of sign)라고 하고,\n",
    "\n",
    "$$\n",
    "sgn(A) = (p, q)\n",
    "$$\n",
    "와 같이 나타낸다. 또, 모든 $\\mathbf{x} \\neq \\mathbf{0}$에 대하여 $f(\\mathbf{x}) = \\mathbf{x}^TA\\mathbf{x} > 0$일 때,<br>\n",
    "$f(\\mathbf{x})$를 양정치이차형식(positive definite quadratic form)이라고 하고, $A$를 양정치행렬(positive definite matrix)이라고 한다.\n"
   ]
  },
  {
   "cell_type": "markdown",
   "id": "916a5d58-2bb2-412a-9a27-1136e3296590",
   "metadata": {},
   "source": [
    "##### Theorem.3.3.\n",
    "$n \\times n$ 대칭행렬을 $A$의 고유치가 $\\lambda_1, \\,\\ \\lambda_2, \\,\\ \\cdots, \\,\\ \\lambda_n(\\lambda_1 \\ge \\lambda_2 \\ge \\cdots \\ge \\lambda_n)$이라고 하고,<br>\n",
    "$\\mathbf{x} \\in \\mathbb{R}^n$를 임의의 단위벡터($||\\mathbf{x}|| = 1)$라고 하면 다음 사항들이 성립한다.\n",
    "\n",
    "\n",
    "- $ \\lambda_n \\le \\mathbf{x}^T A \\mathbf{x} \\le \\lambda_1$\n",
    "- 단위벡터가 $\\mathbf{x}$가 $\\lambda_i$에 대응되는 $A$의 고유벡터이면 $\\mathbf{x}^T A \\mathbf{x} = \\lambda_i$\n",
    "\n",
    "\n",
    "__Proof.__ <br>\n",
    "Trivial."
   ]
  },
  {
   "cell_type": "markdown",
   "id": "d38d71e2-c01a-4ddd-9c5c-9af13e1ae73c",
   "metadata": {},
   "source": [
    "##### Theorem.3.4.\n",
    "$n$차 정방행렬에 대하여 다음은 동치이다.\n",
    "\n",
    "1. $A$는 양정치행렬이다.\n",
    "2. $A$의 모든 고유치가 양수이다.\n",
    "3. $A = S^2$($S$는 양정치행렬)으로 나타난다.\n",
    "4. $A = B^TB$($B$는 정칙행렬)으로 나타난다.\n",
    "\n",
    "__Proof.__ <br>\n",
    "Trivial."
   ]
  },
  {
   "cell_type": "markdown",
   "id": "59ea7f65-7afd-4470-92ba-4323ca8a65d9",
   "metadata": {},
   "source": [
    "##### 3.2. Classification of Quadratic Lines and Plane\n",
    "3.1.에서 다룬 내용은 이차곡선의 분류 문제로 연결된다. 쓸 일이 없으니까 간단하게 종합정리만하면 다음과 같다.\n",
    "\n",
    "__이차곡선__\n",
    "1. $|A| > 0$ 일 때,\n",
    "    1. $|\\bar{A}| > 0$ : 허타원(Imaginary ellipse)\n",
    "    2. $|\\bar{A}| < 0$ : 타원(Ellipse)\n",
    "    3. $|\\bar{A}| = 0$ : 점타원\n",
    "2. $|A| < 0$ 일 때,\n",
    "    1. $|\\bar{A}| \\neq 0$ : 쌍곡선(Hyperbola)\n",
    "    2. $|\\bar{A}| = 0$ : 서로 만나는 두 직선\n",
    "3. $|A| = 0$ 일 때,\n",
    "    1. $|\\bar{A}| \\neq 0$ : 포물선(Parabola)\n",
    "    2. $|\\bar{A}| = 0$ 일 때, \n",
    "        1. $rank(\\bar{A}) = 2$ 일 때,\n",
    "            1. $sgn(\\bar{A}) = (2, 0)$ : $\\emptyset$\n",
    "            1. $sgn(\\bar{A}) = (1, 1)$ : 나란한 두 직선\n",
    "        2. $rank(\\bar{A}) = 1$ : 일치하는 두 직선\n",
    "\n",
    "\n",
    "__이차곡면__\n",
    "1. $|A| > 0$\n",
    "    1. $|\\bar{A}| > 0$ : 허타원면(Imaginary ellipsoid)\n",
    "    2. $|\\bar{A}| < 0$ : 타원면(Ellipsoid)\n",
    "    2. $|\\bar{A}| = 0$ : 점타원면\n",
    "2. $|A| < 0$\n",
    "    1. $|\\bar{A}| > 0$ : 일엽쌍곡선(Hyperboloid of one sheet)\n",
    "    2. $|\\bar{A}| < 0$ : 이엽쌍곡선(Hyperboloid of two sheets)\n",
    "3. $|A| = 0$ 일 때,\n",
    "    1. $|\\bar{A}| \\neq 0$ : 쌍곡포물면\n",
    "    2. $|\\bar{A}| = 0$ 일 때,\n",
    "        1. $rank(A) = 3$ : 이차추면\n",
    "        2. $rank(A) = 2$ 일 때,\n",
    "            1. $rank(\\bar{A}) = 4$ : 타원포물선\n",
    "            2. $rank(\\bar{A}) = 3$ 일 때,\n",
    "                1. $sgn(A) = (2, 0)$ : 타원주면\n",
    "                2. $sgn(A) = (1, 1)$ : 쌍곡주면\n",
    "            3. $rank(\\bar{A}) = 2$ : 서로 만나는 두 평면\n",
    "        3. $rank(A) = 1$ 일 때,\n",
    "            1. $rank(\\bar{A}) = 3$ : 포물주면\n",
    "            2. $rank(\\bar{A}) = 2$ 일 때,\n",
    "                1. $sgn(A) = (1, 1)$ : 나란한 두 평면\n",
    "                2. $sgn(A) = (2, 0)$ : $\\emptyset$\n",
    "            3. $rank(\\bar{A}) = 1$ : 하나의 평면\n",
    "    \n"
   ]
  }
 ],
 "metadata": {
  "kernelspec": {
   "display_name": "Python 3",
   "language": "python",
   "name": "python3"
  },
  "language_info": {
   "codemirror_mode": {
    "name": "ipython",
    "version": 3
   },
   "file_extension": ".py",
   "mimetype": "text/x-python",
   "name": "python",
   "nbconvert_exporter": "python",
   "pygments_lexer": "ipython3",
   "version": "3.8.2"
  }
 },
 "nbformat": 4,
 "nbformat_minor": 5
}

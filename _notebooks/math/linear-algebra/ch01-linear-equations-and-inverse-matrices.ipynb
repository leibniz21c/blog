{
 "cells": [
  {
   "cell_type": "markdown",
   "id": "1f3e6342",
   "metadata": {},
   "source": [
    "# \"[LinearAlgebra] CH01. Linear Equations and Inverse Matrices\"\n",
    "> Linear algebra summary note.\n",
    "\n",
    "- toc: false\n",
    "- badges: false\n",
    "- comments: false\n",
    "- categories: [linear-algebra]\n",
    "- hide_{github,colab,binder,deepnote}_badge: true"
   ]
  },
  {
   "cell_type": "markdown",
   "id": "6a1a44f0-4db4-4574-ae40-b586ca3fa045",
   "metadata": {
    "tags": []
   },
   "source": [
    "#### 1.0. Elementary Definitions and Theorems"
   ]
  },
  {
   "cell_type": "markdown",
   "id": "9d3dd0f6-6be3-4430-8649-136328127778",
   "metadata": {},
   "source": [
    "- 이 노트에서 사용하는 수학 표기는 [표기법](https://ndo04343.github.io/blog/math/math)을 따른다. \n",
    "- 기본적인 행렬의 연산과 성질들은 생략한다."
   ]
  },
  {
   "cell_type": "markdown",
   "id": "5c441ac2-3479-49e9-b16f-c7378811ccef",
   "metadata": {
    "tags": []
   },
   "source": [
    "##### Definition.1.1. Matrix\n",
    "임의의 자연수 $m$과 $n$에 대하여 $mn$개의 수 $(a_{ij} \\in \\mathbb{K}, \\,\\ i = 1, 2, \\cdots, m, \\,\\ j = 1, 2, \\cdots, n)$를 다음과 같이 배열한 도식(diagram) $A$를 $m \\times n$ 행렬(matrix)이라고 한다. \n",
    "\n",
    "$$\n",
    "A = \\begin{bmatrix}\n",
    "a_{11} & a_{12} & \\cdots & a_{1j} & \\cdots & a_{1n} \\\\\n",
    "a_{21} & a_{22} & \\cdots & a_{2j} & \\cdots & a_{2n} \\\\\n",
    "\\vdots & \\vdots & \\ddots & \\vdots &  & \\vdots \\\\\n",
    "a_{i1} & a_{i2} & \\cdots & a_{ij} & \\cdots & a_{in} \\\\\n",
    "\\vdots & \\vdots &  & \\vdots & \\ddots & \\vdots \\\\\n",
    "a_{m1} & a_{m2} & \\cdots & a_{mj} & \\cdots & a_{mn} \\\\\n",
    "\\end{bmatrix}\n",
    "$$\n",
    "행렬 $A$를 간단히 $A = [a_{ij}]$ 또는 $A = [a_{ij}]_{m \\times n}$과 같이 나타낸다."
   ]
  },
  {
   "cell_type": "markdown",
   "id": "02a85825-3cdd-4995-aed2-f80904f31d5c",
   "metadata": {},
   "source": [
    "이 글에서 행렬과 관련된 기본 정의와 정리들은 위의 표기를 따른다."
   ]
  },
  {
   "cell_type": "markdown",
   "id": "5d7b98fc-a8b8-4b65-8704-106bf0fb510f",
   "metadata": {},
   "source": [
    "#### 1.1. System of Linear Equations"
   ]
  },
  {
   "cell_type": "markdown",
   "id": "2314f925-96d9-4aaa-9927-71af58ea624b",
   "metadata": {},
   "source": [
    "##### Definition.1.2. Augmented Matrices and Coefficient Matrices\n",
    "$n$개의 미지수 $x_1, \\,\\ x_2, \\,\\ \\cdots, \\,\\ x_n$에 관한 연립일차방정식\n",
    "\n",
    "$$\n",
    "\\begin{cases}\n",
    "a_{11}x_1 + a_{12}x_2 + \\cdots + a_{1n}x_n = b_1 \\\\\n",
    "a_{21}x_1 + a_{22}x_2 + \\cdots + a_{2n}x_n = b_2 \\\\\n",
    "\\;\\;\\;\\;\\;\\;\\;\\;\\;\\;\\;\\;\\;\\;\\;\\;\\;\\; \\vdots  \\\\\n",
    "a_{m1}x_1 + a_{m2}x_2 + \\cdots + a_{mn}x_n = b_m \\\\\n",
    "\\end{cases},\n",
    "$$\n",
    "\n",
    "에 대하여\n",
    "\n",
    "$$\n",
    "A = \\begin{bmatrix}\n",
    "a_{11} & a_{12} & \\cdots & a_{1n} \\\\\n",
    "a_{21} & a_{22} & \\cdots & a_{2n} \\\\\n",
    "\\vdots & \\vdots & \\ddots & \\vdots \\\\\n",
    "a_{m1} & a_{m2} & \\cdots & a_{mn} \\\\\n",
    "\\end{bmatrix}_{m \\times n}, \\mathbf{x} = \\begin{bmatrix}\n",
    "x_{1} \\\\\n",
    "x_{2} \\\\\n",
    "\\vdots \\\\\n",
    "x_{n} \\\\\n",
    "\\end{bmatrix}_{n \\times 1}, \\text{and} \\,\\ \\mathbf{b} = \\begin{bmatrix}\n",
    "b_{1} \\\\\n",
    "b_{2} \\\\\n",
    "\\vdots \\\\\n",
    "b_{m} \\\\\n",
    "\\end{bmatrix}_{m \\times 1}\n",
    "$$\n",
    "\n",
    "로 둘때, 연립일차방정식을 행렬을 써서 나타내면\n",
    "\n",
    "$$\n",
    "A\\mathbf{x} = \\mathbf{b}\n",
    "$$\n",
    "\n",
    "이다. \\\n",
    "\\\n",
    "이때, 연립일차방정식에  대응되는 행렬 $[A \\quad \\mathbf{b}]_{m \\times (n + 1)}$를 주어진 연립일차방정식의 첨가행렬(Augmented matrix)이라고 하고 $A$를 연립일차방정식의 계수행렬(Coeffficient matrix)이라고 한다.\n",
    "\n"
   ]
  },
  {
   "cell_type": "markdown",
   "id": "6547515b-8035-4434-85af-e22cff1125b8",
   "metadata": {},
   "source": [
    "##### Theorem.1.1.\n",
    "$A = [a_{ij}]_{n \\times n}, \\text{and} \\,\\ B = [b_{ij}]_{n \\times n}$에 대하여 다음이 성립한다.\n",
    "\n",
    "$$\n",
    "\\qquad (AB)^\\top = B^\\top A^\\top\n",
    "$$\n",
    "\n",
    "__Proof.__ <br>\n",
    "Trivial."
   ]
  },
  {
   "cell_type": "markdown",
   "id": "b09909c1-ec28-42fc-a06b-c82a98458620",
   "metadata": {},
   "source": [
    "##### Theorem.1.2.\n",
    "Let $A$ is invertible and have $n$-degree.\n",
    "\n",
    "$$\n",
    "\\qquad (A^\\top)^{-1} = (A^{-1})^\\top\n",
    "$$\n",
    "\n",
    "__Proof.__ <br>\n",
    "Trivial."
   ]
  },
  {
   "cell_type": "markdown",
   "id": "7e581d36-51f9-4a4f-99e9-787676037a2a",
   "metadata": {},
   "source": [
    "##### Theorem.1.3.\n",
    "Square matrix $A$에 대하여, 다음이 성립한다.\n",
    "\n",
    "$$\n",
    "\\text{(1)} \\quad \\text{If} \\,\\ [A \\quad I] \\cong_R [I \\quad P], \\,\\ \\text{then} \\,\\ P = A^{-1} \\\\\n",
    "\\text{(2)} \\quad \\text{If} \\,\\ \\begin{bmatrix} A \\\\ I \\end{bmatrix} \\cong_C \\begin{bmatrix} I \\\\ P \\end{bmatrix}, \\,\\ \\text{then} \\,\\ P = A^{-1} \\\\\n",
    "$$\n",
    "\n",
    "__Proof.__ <br>\n",
    "Trivial."
   ]
  },
  {
   "cell_type": "markdown",
   "id": "dc2e39f8-86ae-4587-9144-4267c33aab17",
   "metadata": {},
   "source": [
    "##### Theorem.1.4.\n",
    "Square matrix $A, \\,\\ B, \\,\\ C$에 대하여, $A$가 가역행렬일때, \n",
    "\n",
    "$$\n",
    "\\text{If} \\,\\ [A \\quad B] \\cong_R [I \\quad C], \\,\\ \\text{then} \\,\\ C = A^{-1}B\n",
    "$$\n",
    "\n",
    "__Proof.__ <br>\n",
    "Trivial."
   ]
  },
  {
   "cell_type": "markdown",
   "id": "52e7ffbe-c6a7-4ab3-9568-4a85777fc8fc",
   "metadata": {},
   "source": [
    "##### Theorem.1.5.\n",
    "$\\text{If} \\,\\ A \\,\\ \\text{and} \\,\\ B \\,\\ \\text{are} \\,\\ n\\text{-degree square matrices, then followings are true.} $\n",
    "\n",
    "$$\n",
    "\\text{(1)} \\quad Tr(AB) = Tr(BA) \\\\\n",
    "\\text{(2)} \\quad Tr(PAP^{-1}) = Tr(A) \\\\\n",
    "$$\n",
    "\n",
    "__Proof.__ <br>\n",
    "Trivial."
   ]
  },
  {
   "cell_type": "markdown",
   "id": "3c25aff6-9895-480b-9c8e-95e716582de8",
   "metadata": {},
   "source": [
    "##### Definition.1.3. Gauss-Jordan Elimination and Gauss Elimination\n",
    "Forward substitution을 통해서 어떤 행렬을 ref(row echelon form)으로 변환하는 과정을 Gauss Elimination이라고 하고, <br>\n",
    "Back substitution까지 진행하여 어떤 행렬을 rref(reduced row echelon form으로 변환하는 과정을 Gauss-Jordan Elimination이라고 한다.\n"
   ]
  },
  {
   "cell_type": "markdown",
   "id": "6fefacd8-985a-4950-a8df-9b56ec90781b",
   "metadata": {},
   "source": [
    "##### Definition.1.4. Matrix Decomposition\n",
    "Matrix Decomposition은 어떤 Matrix를 여러 행렬들의 곱으로 표현하는 것을 의미한다. <br>\n",
    "이는 Computational convenience, analytic simplicity를 목적으로 가진다."
   ]
  },
  {
   "cell_type": "markdown",
   "id": "af5d05e6-ceb1-4033-8273-6dc7ded369aa",
   "metadata": {
    "tags": []
   },
   "source": [
    "---\n",
    "\n",
    "##### Application.1.1. LU Decomposition\n",
    "$ \\text{Let} \\,\\ m \\times n \\,\\  \\text{matrix} \\,\\ A.$<br>\n",
    "$ \\text{By Gauss Elimination, We can get matrix} \\,\\ U. $<br>\n",
    "$ \\text{Then} \\,\\ E_p \\cdots E_1 A = U $<br>\n",
    "$ L = (E_p \\cdots E_1)^{-1} $<br><br>\n",
    "\n",
    "##### Ex)\n",
    "\n",
    "$$\n",
    "A = \n",
    "\\begin{bmatrix}\n",
    "2 & 4 & -1 & 5 & -2 \\\\\n",
    "-4 & -5 & 3 & -8 & 1 \\\\\n",
    "2 & -5 & -4 & 1 & 8 \\\\\n",
    "-6 & 0 & 7 & -3 & 1 \\\\\n",
    "\\end{bmatrix} \n",
    "\\cong\n",
    "\\begin{bmatrix}\n",
    "2 & 4 & -1 & 5 & -2 \\\\\n",
    "0 & 3 & 1 & 2 & -3 \\\\\n",
    "0 & -9 & -3 & -4 & 10 \\\\\n",
    "0 & 12 & 4 & 12 & -5 \\\\\n",
    "\\end{bmatrix} \n",
    "\\cong\n",
    "\\begin{bmatrix}\n",
    "2 & 4 & -1 & 5 & -2 \\\\\n",
    "0 & 3 & 1 & 2 & -3 \\\\\n",
    "0 & 0 & 0 & 2 & 1 \\\\\n",
    "0 & 0 & 0 & 4 & 7 \\\\\n",
    "\\end{bmatrix} \n",
    "\\cong\n",
    "\\begin{bmatrix}\n",
    "2 & 4 & -1 & 5 & -2 \\\\\n",
    "0 & 3 & 1 & 2 & -3 \\\\\n",
    "0 & 0 & 0 & 2 & 1 \\\\\n",
    "0 & 0 & 0 & 0 & 5 \\\\\n",
    "\\end{bmatrix} = U\n",
    "$$\n",
    "\n",
    "$$\n",
    "L_{C_1} = \\frac{1}{2} \\begin{bmatrix} 2 \\\\ -4 \\\\ 2 \\\\ -6 \\end{bmatrix}, \\,\\ \n",
    "L_{C_2} = \\frac{1}{3} \\begin{bmatrix} 0 \\\\ 3 \\\\ -9 \\\\ 12 \\end{bmatrix}, \\,\\ \n",
    "L_{C_3} = \\frac{1}{2} \\begin{bmatrix} 0 \\\\ 0 \\\\ 2 \\\\ 4 \\end{bmatrix}, \\,\\ \n",
    "L_{C_4} = \\frac{1}{5} \\begin{bmatrix} 0 \\\\ 0 \\\\ 0 \\\\ 5 \\end{bmatrix}. \n",
    "$$"
   ]
  },
  {
   "cell_type": "markdown",
   "id": "990805b3",
   "metadata": {},
   "source": [
    "$$\n",
    "\\text{Therefore, } \\,\\ L = \n",
    "\\begin{bmatrix}\n",
    "1 & 0 & 0 & 0 \\\\\n",
    "-2 & 1 & 0 & 0 \\\\\n",
    "1 & -3 & 1 & 0 \\\\\n",
    "-3 & 4 & 2 & 1 \\\\\n",
    "\\end{bmatrix} \n",
    "$$\n",
    "\n",
    "Suppose we have to solve $ A\\mathbf{x} = \\mathbf{b} $.<br>\n",
    "We can get $ A = LU $.<br>\n",
    "Then "
   ]
  },
  {
   "cell_type": "markdown",
   "id": "a06b209b",
   "metadata": {},
   "source": [
    "$$\n",
    "L\\mathbf{d} = \\mathbf{b} \\\\\n",
    "U\\mathbf{x} = \\mathbf{d}\n",
    "$$"
   ]
  },
  {
   "cell_type": "code",
   "execution_count": 8,
   "id": "2ecd78b0-bd07-4edc-8237-2972e60c1464",
   "metadata": {},
   "outputs": [
    {
     "data": {
      "text/plain": [
       "(array([[0., 0., 0., 1.],\n",
       "        [0., 1., 0., 0.],\n",
       "        [0., 0., 1., 0.],\n",
       "        [1., 0., 0., 0.]]),\n",
       " array([[ 1.        ,  0.        ,  0.        ,  0.        ],\n",
       "        [ 0.66666667,  1.        ,  0.        ,  0.        ],\n",
       "        [-0.33333333,  1.        ,  1.        ,  0.        ],\n",
       "        [-0.33333333, -0.8       , -0.        ,  1.        ]]),\n",
       " array([[-6.00000000e+00,  0.00000000e+00,  7.00000000e+00,\n",
       "         -3.00000000e+00,  1.00000000e+00],\n",
       "        [ 0.00000000e+00, -5.00000000e+00, -1.66666667e+00,\n",
       "         -6.00000000e+00,  3.33333333e-01],\n",
       "        [ 0.00000000e+00,  0.00000000e+00, -8.88178420e-16,\n",
       "          6.00000000e+00,  8.00000000e+00],\n",
       "        [ 0.00000000e+00,  0.00000000e+00,  0.00000000e+00,\n",
       "         -8.00000000e-01, -1.40000000e+00]]))"
      ]
     },
     "execution_count": 8,
     "metadata": {},
     "output_type": "execute_result"
    }
   ],
   "source": [
    "import numpy as np\n",
    "from scipy.linalg import lu\n",
    "\n",
    "A = np.array([[2, 4, -1, 5, -2],\n",
    "              [-4, -5, 3, -8, 1],\n",
    "              [2, -5, -4, 1, 8],\n",
    "              [-6, 0, 7, -3, 1]])\n",
    "P, L, U = lu(A) # P is permutating matrix(pivoting)\n",
    "P, L, U"
   ]
  },
  {
   "cell_type": "markdown",
   "id": "df31d448-40b1-4891-81f2-f41c9116e53a",
   "metadata": {},
   "source": [
    "---"
   ]
  },
  {
   "cell_type": "markdown",
   "id": "33dea63a-8c0f-42c3-9672-8e778a718fe1",
   "metadata": {},
   "source": [
    "#### 1.2. Determinants and Inverse Matrices"
   ]
  },
  {
   "cell_type": "markdown",
   "id": "a5fac095-41af-47ea-ae21-2b0d0dec4871",
   "metadata": {},
   "source": [
    "##### Theorem.1.6.\n",
    "$n$차 정방행렬 $A = [a_{ij}]$에 대하여 $|A| = |A^\\top|$\n",
    "\n",
    "__Proof.__ <br>\n",
    "Trivial."
   ]
  },
  {
   "cell_type": "markdown",
   "id": "8c069dc4-1479-45dd-acb2-044c423f78c7",
   "metadata": {},
   "source": [
    "##### Theorem.1.7.\n",
    "$n$차 정방행렬 $A = [a_{ij}]$와 수 $k$에 대하여 \n",
    "$|kA| = k^n|A|$\n",
    "\n",
    "__Proof.__ <br>\n",
    "Trivial."
   ]
  },
  {
   "cell_type": "markdown",
   "id": "adbebd93-1d41-4f44-a731-56541466f38b",
   "metadata": {},
   "source": [
    "##### Theorem.1.8.\n",
    "두 행렬의 곱의 행렬식은 각각의 행렬식의 곱과 같다.\n",
    "\n",
    "__Proof.__ <br>\n",
    "Trivial."
   ]
  },
  {
   "cell_type": "markdown",
   "id": "b175541b-d40a-4625-b228-f4646f74fe27",
   "metadata": {},
   "source": [
    "##### Definition.1.5. Minor Determinant and Cofactor\n",
    "$n$차 정방행렬 $A = [a_{ij}]$의 $i$번째 행과 $j$번째 열을 삭제하고 남은 $(n - 1)$차 정방행렬의 행렬식을 행렬 $A$의 $(i, j)-$Minor determinant이라고 하고 $M_{ij}$로 쓴다.<br>\n",
    "또한 $M_{ij}$에 부호 $(-1)^{i + j}$를 곱한 $(-1)^{i + j}M_{ij}$를 행렬 $A$의 $(i, j)$-Cofactor라고 하고 $C_{ij}$로 쓴다.<br>\n",
    "즉, "
   ]
  },
  {
   "cell_type": "markdown",
   "id": "79922d36-447d-45f2-ad4a-d29e9b54dd69",
   "metadata": {},
   "source": [
    "$$\n",
    "C_{ij} = (-1)^{i + j}M_{ij}\n",
    "$$"
   ]
  },
  {
   "cell_type": "markdown",
   "id": "74eed361-df0a-4644-a00a-2edad09501c2",
   "metadata": {},
   "source": [
    "##### Definition.1.6. Adjoint Matrix and Cofactor Matrix\n",
    "$n$차 정방행렬 $A = [a_{ij}]$에서 $(i, j)$-Cofactor $C_{ij}$를 $(i, j)$ 성분으로 하는 행렬 $C = [C_{ij}]$의 전치행렬 $C^\\top$를 $A$의 Adjoint matrix또는 여인수 행렬(Cofactor matrix)이라고 하며, $\\text{adj}(A)$로 나타낸다.\n",
    "\n",
    "$$\n",
    "\\text{adj}(A) = [C_{ij}]^\\top = \n",
    "\\begin{bmatrix}\n",
    "C_{11} & C_{21} & \\cdots & C_{n1} \\\\\n",
    "C_{12} & C_{22} & \\cdots & C_{n2} \\\\\n",
    "\\vdots & \\vdots & \\ddots & \\vdots \\\\\n",
    "C_{1n} & C_{2n} & \\cdots & C_{nn} \\\\\n",
    "\\end{bmatrix}\n",
    "$$\n"
   ]
  },
  {
   "cell_type": "markdown",
   "id": "ffea3fc3-06ed-489f-ba8b-2c6925e4dc30",
   "metadata": {},
   "source": [
    "##### Theorem.1.9.\n",
    "$n$차 정방행렬 $A = [a_{ij}]$에 대하여 다음이 성립한다. <br><br>\n",
    "\n",
    "$\\text{(1)} \\quad \\text{adj}(A)A = A\\text{adj}(A) = |A|I_n$<br>\n",
    "$\\text{(2)} \\quad A$가 정칙행렬일 필요충분조건은 $|A| \\neq 0$이다.<br>\n",
    "$\\text{(3)} \\quad A$가 정칙행렬이면 $A^{-1} = \\frac{1}{|A|}\\text{adj}(A)$이다.<br>\n",
    "\n",
    "__Proof.__ <br>\n",
    "Trivial."
   ]
  },
  {
   "cell_type": "markdown",
   "id": "3264bc12-bbaf-41ba-896c-07e8e48eeea4",
   "metadata": {},
   "source": [
    "##### Definition.1.7. Minor Determinant and Rank\n",
    "$m \\times n$행렬 $A$의 $m - r$개 행과 $n - r$개의 열을 제거하고 남은 $r$차의 정방행렬에 대한 행렬식을 $A$의 $r$차의 소행렬식(Minor determinant)이라고 한다.<br>\n",
    "만약 $A$의 $r$차 소행렬식 중에서 $0$이 아닌 것이 적어도 하나 존재하고, $r$보다 큰 모든 $s(r < s)$에 대하여 소행렬식이 모두 $0$일때, $r$을 행렬 $A$의 계수(rank)라고 하고\n",
    "$$\n",
    "\\text{rank}(A) = r\n",
    "$$\n",
    "이라고 나타낸다."
   ]
  },
  {
   "cell_type": "markdown",
   "id": "372afbe2-9fde-4fb0-bf7d-79dbea71e671",
   "metadata": {},
   "source": [
    "##### Theorem.1.10.\n",
    "$\\text{If} \\,\\ A \\cong A^\\prime, \\,\\ \\text{then} \\,\\ \\text{rank}(A) = \\text{rank}(A^\\prime)$\n",
    "\n",
    "__Proof.__ <br>\n",
    "Trivial."
   ]
  },
  {
   "cell_type": "markdown",
   "id": "12c505c1-c879-4e69-a9c3-55daf455e7f1",
   "metadata": {},
   "source": [
    "##### Theorem.1.11.\n",
    "행렬의 계수(rank)는 그 행렬의 rref에서 leading 1의 개수와 같다.\n",
    "\n",
    "__Proof.__ <br>\n",
    "Trivial."
   ]
  },
  {
   "cell_type": "markdown",
   "id": "9a67f3ef-b5ca-4ef9-b0d3-4c849cc4848a",
   "metadata": {},
   "source": [
    "#### 1.3. Rank and Solution of System of Linear Equation\n",
    "\n",
    "연립 일차 방정식의 해의 종류는 다음과 같다.\n",
    "- No solution\n",
    "- Particular solution(Only one solution)\n",
    "- Infinitely many solutions"
   ]
  },
  {
   "cell_type": "markdown",
   "id": "db98ae7e-273d-45ca-aabb-337f84f50e5a",
   "metadata": {},
   "source": [
    "##### Definition.1.8. Homogeneous System of Linear Equations\n",
    "미지수 $x_1, \\,\\ x_2, \\,\\ \\cdots, \\,\\ x_n$에 관한 연립일차방정식\n",
    "\n",
    "$$\n",
    "\\begin{cases}\n",
    "a_{11}x_1 + a_{12}x_2 + \\cdots + a_{1n}x_n = 0 \\\\\n",
    "a_{21}x_1 + a_{22}x_2 + \\cdots + a_{2n}x_n = 0 \\\\\n",
    "\\;\\;\\;\\;\\;\\;\\;\\;\\;\\;\\;\\;\\;\\;\\;\\;\\;\\; \\vdots  \\\\\n",
    "a_{m1}x_1 + a_{m2}x_2 + \\cdots + a_{mn}x_n = 0 \\\\\n",
    "\\end{cases}\n",
    "$$\n",
    "을 Homogeneous System of Linear Euation이라고 한다.\n",
    "\n",
    "Homogeneous System of Linear Equation은 다음과 같은 해를 가진다.\n",
    "- Trivial solution\n",
    "- Infinitely many solution including trivial solution."
   ]
  },
  {
   "cell_type": "markdown",
   "id": "a8f1c3de-7ffe-467f-a5ed-09835be49e1d",
   "metadata": {},
   "source": [
    "##### Theorem.1.12.\n",
    "$ \\text{In homogeneous system of linear equations, if} \\,\\ m < n, \\,\\ \\text{then the system have infinitely many solutions.} $\n",
    "\n",
    "\n",
    "__Proof.__ <br>\n",
    "Trivial."
   ]
  },
  {
   "cell_type": "markdown",
   "id": "39c8b2e6-b7e3-4cbf-a52e-3345e61c1761",
   "metadata": {},
   "source": [
    "##### Theorem.1.13.\n",
    "행렬 $A_{m \\times n}, \\,\\ \\mathbf{b}_{m \\times 1} = [b_1 \\,\\ b_2 \\,\\ \\cdots \\,\\ b_m]^\\top, \\,\\ \\mathbf{x}_{n \\times 1} = [x_1 \\,\\ x_2 \\,\\ \\cdots \\,\\ x_n]^\\top$에 대하여 연립일차방정식 $A\\mathbf{x} = \\mathbf{b}$가 해를 가질 필요충분조건은\n",
    "\n",
    "$$\n",
    "\\text{rank}(A) = \\text{rank}([A \\quad B])\n",
    "$$\n",
    "이며, $A\\mathbf{x} = \\mathbf{b}$가 해를 가지는 경우는 다음과 같다.\n",
    "\n",
    "- $\\text{If} \\,\\ \\text{rank}(A) = \\text{rank}([A \\quad B]) = n, \\,\\ \\text{then} \\,\\ A\\mathbf{x} = \\mathbf{b} \\,\\ \\text{have a particular solution.}$\n",
    "- $\\text{If} \\,\\ \\text{rank}(A) = \\text{rank}([A \\quad B]) < n, \\,\\ \\text{then} \\,\\ A\\mathbf{x} = \\mathbf{b} \\,\\ \\text{have infinitely many solutions.}$\n",
    "\n",
    "__Remark)__ <br>\n",
    "1. $\\text{If} \\,\\ \\text{rank}(A) \\neq \\text{rank}([A \\quad B]), \\,\\ \\text{then} \\,\\ \\nexists \\,\\ \\text{solution of} \\,\\ A\\mathbf{x} = \\mathbf{b}$.\n",
    "2. $\\text{If} \\,\\ \\text{rank}(A) = \\text{rank}([A \\quad B]) = n, \\,\\ \\text{then} \\,\\ \\exists^1 \\,\\ \\text{solution of} \\,\\ A\\mathbf{x} = \\mathbf{b}$.\n",
    "3. $\\text{If} \\,\\ \\text{rank}(A) = \\text{rank}([A \\quad B]) < n, \\,\\ \\text{then} \\,\\ \\exists^\\infty \\,\\ \\text{solution of} \\,\\ A\\mathbf{x} = \\mathbf{b}$.\n",
    "\n",
    "__Proof.__ <br>\n",
    "Trivial."
   ]
  },
  {
   "cell_type": "markdown",
   "id": "2877cc44-10bb-472e-b253-e6d4226b50f3",
   "metadata": {},
   "source": [
    "##### Theorem.1.14.\n",
    "$ m \\times n $행렬 $A$에 대하여 만약 $m < n$이면 동차연립일차방정식 $A\\mathbf{x} = \\mathbf{0}$는 무한히 많은 해를 가진다.\n",
    "\n",
    "__Proof.__ <br>\n",
    "Trivial."
   ]
  },
  {
   "cell_type": "markdown",
   "id": "ab710710-c3e3-40ea-b49c-5288d9af5bc3",
   "metadata": {},
   "source": [
    "##### Theorem.1.15.\n",
    "$n$차 정방행렬 $A$를 계수행렬로 가지는 동차연립일차방정식 $A\\mathbf{x} = \\mathbf{0}$가 자명해가 아닌 해를 가질 필요충분조건은 $\\text{rank}(A) < n$이다.\n",
    "\n",
    "__Proof.__ <br>\n",
    "Trivial."
   ]
  }
 ],
 "metadata": {
  "kernelspec": {
   "display_name": "Python 3 (ipykernel)",
   "language": "python",
   "name": "python3"
  },
  "language_info": {
   "codemirror_mode": {
    "name": "ipython",
    "version": 3
   },
   "file_extension": ".py",
   "mimetype": "text/x-python",
   "name": "python",
   "nbconvert_exporter": "python",
   "pygments_lexer": "ipython3",
   "version": "3.8.10"
  }
 },
 "nbformat": 4,
 "nbformat_minor": 5
}

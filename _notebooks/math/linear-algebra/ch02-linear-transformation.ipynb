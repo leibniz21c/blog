{
 "cells": [
  {
   "cell_type": "markdown",
   "id": "251fd9a4-0f29-4862-aa66-857c313e79aa",
   "metadata": {},
   "source": [
    "# \"[LinearAlgebra] CH02. Linear Transformation\"\n",
    "> Linear algebra summary note.\n",
    "\n",
    "- toc: false\n",
    "- badges: false\n",
    "- comments: false\n",
    "- categories: [linear-algebra]\n",
    "- hide_{github,colab,binder,deepnote}_badge: true"
   ]
  },
  {
   "cell_type": "markdown",
   "id": "6a1a44f0-4db4-4574-ae40-b586ca3fa045",
   "metadata": {
    "tags": []
   },
   "source": [
    "#### 2.0. Elementary Definitions and Theorems"
   ]
  },
  {
   "cell_type": "markdown",
   "id": "5c441ac2-3479-49e9-b16f-c7378811ccef",
   "metadata": {
    "tags": []
   },
   "source": [
    "##### Definition.2.1. Linear Transformation\n",
    "$ \\mathbb{K} $상의 벡터공간 $V$와 $W$에 대해서, 다음 두 조건을 만족하는 함수 $T \\,\\ : \\,\\ V \\rightarrow W$를 linear transformation이라고 한다.\n",
    "<br><br>\n",
    "\n",
    "$ ^\\forall \\mathbf{x}\\mathbf{y} \\in V, \\,\\ ^\\forall \\alpha \\in \\mathbb{K}, $<br>\n",
    "\n",
    "1. $ T(\\mathbf{x} + \\mathbf{y}) = T(\\mathbf{x}) + T(\\mathbf{y}) $ \n",
    "2. $ T(\\alpha \\mathbf{x}) = \\alpha T(\\mathbf{x}) $<br><br>\n",
    "\n",
    "특히, 일차변환 $T \\,\\ : \\,\\ V \\rightarrow W$가 전단사일때, 이를 linear isomorphism이라 한다. 그리고 이 때의 벡터공간 $V$와 $W$는 linear isomorphic이라고 하고, $ V \\cong W $로 나타낸다."
   ]
  },
  {
   "cell_type": "markdown",
   "id": "8167409a-0e48-48c9-a1e8-8cc37ee8aa71",
   "metadata": {},
   "source": [
    "__EX)__ <br>\n",
    "\n",
    "- Zero transformation\n",
    "- Identity transformation\n",
    "- Inverse transformation of linear transformation $ T $(Not always).\n",
    "- Matrix transformation\n",
    "\n",
    "$ \\text{Let} \\,\\ A = [a_{ij}]_{m \\times n} \\,\\ \\text{for} \\,\\ a_{ij} \\in \\mathbb{K} $.<br>\n",
    "$\\text{If} \\,\\ ^\\forall \\mathbf{x} \\in \\mathbb{K}^n, \\,\\ T_A(\\mathbf{x}) = A\\mathbf{x} $, \n",
    "\n",
    "$$\n",
    "T_A \\,\\ : \\,\\ \\mathbb{K}^n \\rightarrow \\mathbb{K}^m\n",
    "$$\n",
    "\n",
    "- Differential transformation\n",
    "- Definite integral transformation\n"
   ]
  },
  {
   "cell_type": "markdown",
   "id": "140cf6df-0e55-4ff5-823d-b1aa7fb54b52",
   "metadata": {},
   "source": [
    "#### 2.1. Symmetric Matrix and Orthogonal Matrix"
   ]
  },
  {
   "cell_type": "markdown",
   "id": "af3480a8-ed4c-4800-91c3-0f9b519b6f23",
   "metadata": {},
   "source": [
    "##### Definition.2.2. Symmetric Matrix and Orthogonal Matrix\n",
    "$$\n",
    "\\text{If} \\,\\ A^T = A \\,\\ \\text{, then} \\,\\ A \\,\\ \\text{is a symetric matrix.}\n",
    "$$\n",
    "\n",
    "$$\n",
    "\\text{If} \\,\\ A^T = A^{-1} \\,\\ \\text{, then} \\,\\ A \\,\\ \\text{is an orthogonal matrix.}\n",
    "$$"
   ]
  },
  {
   "cell_type": "markdown",
   "id": "27062735-1cdc-4d9b-a67a-bb1ae1d2e4db",
   "metadata": {},
   "source": [
    "##### Theorem.2.1.\n",
    "$\\text{Let} \\,\\ Q_1 = [q_{ij}^{(1)}]_{n \\times n} \\,\\ \\text{and} \\,\\ Q_2 = [q_{ij}^{(2)}]_{n \\times n}$.<br>\n",
    "\n",
    "$$\n",
    "\\text{If} \\,\\ Q_1, \\,\\ Q_2 \\,\\ \\text{are orthogonal matrices, then the followings are true.}\n",
    "$$\n",
    "\n",
    "- $ \\text{Every pairs of columns are orthogonal.} $\n",
    "- $ \\text{Every columns are unit vector.} $\n",
    "- $ Q_1Q_2 \\,\\ \\text{is also orthogonal matrix.} $\n",
    "- $ |Q| = 1 \\,\\ \\text{or} \\,\\ |Q| = -1 $\n",
    "\n",
    "__Proof.__ <br>\n",
    "Trivial."
   ]
  },
  {
   "cell_type": "markdown",
   "id": "39505c36-c786-482f-b1f6-3bb651a24da5",
   "metadata": {},
   "source": [
    "##### Theorem.2.2.\n",
    "$\\text{Let} \\,\\ A \\,\\ \\text{be a matrix.}$.<br>\n",
    "\n",
    "$$\n",
    "\\text{Then,} \\,\\ A^TA \\,\\ \\text{is a symmetric matrix.}\n",
    "$$\n",
    "\n",
    "- $ (i, i)\\text{-element of} \\,\\ A^TA = A_{C_i}^TA_{C_i} \\ge 0 $ \n",
    "\n",
    "\n",
    "__Proof.__ <br>\n",
    "Trivial."
   ]
  },
  {
   "cell_type": "markdown",
   "id": "87735ec5-8f57-4550-a89d-bd3ee3449333",
   "metadata": {},
   "source": [
    "#### 2.2. Eigenvalue and Eigenvector"
   ]
  },
  {
   "cell_type": "markdown",
   "id": "4cf6cd45-805c-452a-949c-8cc26730928b",
   "metadata": {},
   "source": [
    "Consider $T_A \\,\\ : \\,\\ V \\rightarrow V$ and following vector equation.\n",
    "\n",
    "$$\n",
    "T_A(\\mathbf{x}) = A\\mathbf{x} = \\lambda \\mathbf{x} \\quad \\text{for} \\,\\ \\lambda \\in \\mathbb{R}.\n",
    "$$\n",
    "\n",
    "$ \\text{Since} \\,\\ (A - \\lambda I_n)\\mathbf{x} = \\mathbf{0} \\Leftrightarrow A\\mathbf{x} = \\lambda \\mathbf{x}, $<br>\n",
    "$ \\text{by Basic Theorem of Algebra, above equation have} \\,\\ n \\,\\ \\text{complex solutions in} \\,\\ V. $"
   ]
  },
  {
   "cell_type": "markdown",
   "id": "55850095-a265-47e8-b0d0-a4dc09c9a510",
   "metadata": {},
   "source": [
    "##### Definition.2.3. Eigenvalue and Eigenvector\n",
    "$ \\text{Let} \\,\\ T_A \\,\\ : \\,\\ V \\rightarrow V \\,\\ \\text{and} \\,\\ \\text{correspond with matrix} \\,\\ A$.\n",
    "\n",
    "1. For $\\lambda \\in \\mathbb{K}, \\,\\ T(\\mathbf{x}) = \\lambda \\mathbf{x}$ is called __characteristic equation of linear transform $T$__ .\n",
    "2. In $T(\\mathbf{x}) = \\lambda \\mathbf{x}$, $\\lambda$ is called __eigenvalue__, and corresponding $\\mathbf{x}(\\neq \\mathbf{0}, \\in V)$ is called __eigenvector__ ."
   ]
  },
  {
   "cell_type": "markdown",
   "id": "faffefb4-57b1-4e35-874b-d68b4674c418",
   "metadata": {},
   "source": [
    "##### Theorem.2.3.\n",
    "$n$차 정방행렬 A와 정칙행렬 $N$에 대해서 $A, A^T, N^{-1}AN$의 고유치는 일치한다.\n",
    "\n",
    "__Proof.__ <br>\n",
    "Trivial."
   ]
  },
  {
   "cell_type": "markdown",
   "id": "d97c4587-a725-4362-a0fa-f5edfe6265de",
   "metadata": {},
   "source": [
    "##### Theorem.2.4.\n",
    "$\\text{Let} \\,\\ A = [a_{ij}]_{n \\times n}.$<br>\n",
    "\n",
    "$$\n",
    "\\begin{matrix} \\prod_{k = 1}^{n} \\lambda_k = |A| \\\\ \\sum_{k = 1}^{n} \\lambda_k = \\sum_{k = 1}^{n} a_{kk} \\end{matrix}\n",
    "$$\n",
    "\n",
    "__Proof.__ <br>\n",
    "Trivial."
   ]
  },
  {
   "cell_type": "markdown",
   "id": "ab4abc79-277f-44e0-9097-ebfd439806c2",
   "metadata": {},
   "source": [
    "#### 2.3. Diagonalization"
   ]
  },
  {
   "cell_type": "markdown",
   "id": "7f6a9cee-384b-415a-bc1e-4a88c7ce63a2",
   "metadata": {},
   "source": [
    "유한차원 벡터공간 $V$의 일차변환 $T:V \\rightarrow V$에 대해서, $T$의 행렬을 대각행렬로 만드는 $V$의 기저가 존재할까?"
   ]
  },
  {
   "cell_type": "markdown",
   "id": "6d974916-7c6b-4a75-ae1a-3bcb9671c96d",
   "metadata": {},
   "source": [
    "위의 문제는 __theorem.2.3.__ 에 의해서 다음 문제와 동치이다."
   ]
  },
  {
   "cell_type": "markdown",
   "id": "728d989a-0f2b-4499-a6ac-5a4a7389d9fc",
   "metadata": {},
   "source": [
    "주어진 실정방행렬 $A$에 대해서, $N^{-1}AN$이 대각행렬이 되는 정칙행렬 $N$이 존재하는가? (복소정방행렬 $A$에 대해서는 $\\bar{N}^{-1}AN$에 대해서 따진다.)"
   ]
  },
  {
   "cell_type": "markdown",
   "id": "b289b9b1-d0a1-4d7d-b218-5abc27749237",
   "metadata": {},
   "source": [
    "##### Definition.2.3. Diagonalizable\n",
    "$\\text{Let} \\,\\ A = [a_{ij}]_{n \\times n} \\,\\ \\text{for} \\,\\ a_{ij} \\in \\mathbb{R}$. <br>\n",
    "$\\text{If} \\,\\ \\exists \\,\\ \\text{invertible matrix} \\,\\ N \\in \\mathbb{M}_{n \\times n}(\\mathbb{R}) \\quad s.t. \\quad N^{-1}AN = diag(d_1, d_2, \\cdots, d_n),$<br>\n",
    "$\\text{then} \\,\\ A \\,\\ \\text{is diagonalizable by} \\,\\ N$."
   ]
  },
  {
   "cell_type": "markdown",
   "id": "95e3eecd-bb1d-49c5-a27a-3e36587e6a71",
   "metadata": {},
   "source": [
    "##### Theorem.2.5.\n",
    "$\\text{Let} \\,\\ A = [a_{ij}]_{n \\times n} \\,\\ \\text{for} \\,\\ a_{ij} \\in \\mathbb{R}, \\,\\ \\lambda_1, \\lambda_2, \\cdots, \\lambda_n \\,\\ \\text{are eigenvalues of matrix} \\,\\ A, \\,\\ \\text{and} \\,\\ \\mathbf{x}_1, \\mathbf{x}_2, \\cdots, \\mathbf{x}_n \\,\\ \\text{are corresponding eigenvectors of eigenvalues}$. <br>\n",
    "$\\text{Assume that} \\,\\ {\\mathbf{x}_1, \\mathbf{x}_2, \\cdots, \\mathbf{x}_n} \\,\\ \\text{are ordered basis of} \\,\\ \\mathbb{R}^n$.<br>\n",
    "$\\text{Let} \\,\\ N = [\\mathbf{x}_1 \\,\\ \\mathbf{x}_2 \\,\\ \\cdots \\,\\ \\mathbf{x}_n]$.<br>\n",
    "$\\text{Then} \\,\\ N \\,\\ \\text{is invertible and} \\,\\ A \\,\\ \\text{is diagonalizable by} \\,\\ N$.<br>\n",
    "$\\text{That is}$\n",
    "\n",
    "$$\n",
    "N^{-1}AN = diag(\\lambda_1, \\lambda_2, \\cdots, \\lambda_n)\n",
    "$$\n",
    ".\n",
    "\n",
    "- $ \\text{If} \\,\\ \\lambda_1, \\lambda_2, \\cdots, \\lambda_n \\,\\ \\text{are different with each other, then the eigenvectors} \\,\\ \\mathbf{x}_1, \\mathbf{x}_2, \\cdots, \\mathbf{x}_n \\,\\ \\text{are linearly independent and diagonalizable.} $\n",
    "- $ \\text{Eigenvector can be multiplied any scalar except zero.} $\n",
    "\n",
    "__Proof.__ <br>\n",
    "Trivial."
   ]
  },
  {
   "cell_type": "markdown",
   "id": "8d494452-04e4-4604-8107-d773ccb55628",
   "metadata": {},
   "source": [
    "##### Theorem.2.6.\n",
    "$\\text{Let} \\,\\ A \\,\\ \\text{be a diagonalizable real matrix.}$<br>\n",
    "$\\text{Then}$\n",
    "\n",
    "$$\n",
    "A^k = N^{-1}D^kN \\quad \\text{for} \\,\\ k \\in \\mathbb{Z}.\n",
    "$$\n",
    "\n",
    "__Proof.__ <br>\n",
    "Trivial."
   ]
  },
  {
   "cell_type": "markdown",
   "id": "18d26932-fd7a-4b60-8817-51d6c7a2285e",
   "metadata": {},
   "source": [
    "유한차원 내적공간 $V$의 일차변환 $T:V \\rightarrow V$에 대해서, $T$의 행렬을 대각행렬로 만드는 $V$의 정규직교기저가 존재할까?"
   ]
  },
  {
   "cell_type": "markdown",
   "id": "5c9941c4-d759-42b1-8fa0-c9a084fd128f",
   "metadata": {},
   "source": [
    "위의 문제는 __theorem.2.3.__ 에 의해서 다음 문제와 동치이다."
   ]
  },
  {
   "cell_type": "markdown",
   "id": "239353ef-1d0d-4074-b9e9-8f23b9115c52",
   "metadata": {},
   "source": [
    "주어진 실정방행렬 $A$에 대해서, $P^{-1}AP$이 대각행렬이 되는 직교행렬 $P$가 존재하는가? (복소정방행렬 $A$에 대해서는 $\\bar{P}^{-1}AP$에 대해서 따진다.)"
   ]
  },
  {
   "cell_type": "markdown",
   "id": "8890e9d7-f97d-46c0-a746-2e750bfbdffc",
   "metadata": {},
   "source": [
    "##### Definition.2.4. Orthogonally Diagonalizable\n",
    "실정방행렬 $A$가 직교행렬 $P$에 의해서 대각화되면 A는 orthogonally diagonalizable이라고 한다."
   ]
  },
  {
   "cell_type": "markdown",
   "id": "a9f2ada0-3b05-44e4-8f36-e839aa9c1af1",
   "metadata": {},
   "source": [
    "##### Theorem.2.7.\n",
    "실대칭행렬 $A$에 대해서, 서로 다른 고유치에 대응되는 고유벡터는 직교한다.\n",
    "\n",
    "__Proof.__ <br>\n",
    "$ \\text{Let} \\,\\ A \\,\\ \\text{be orthogonally diagonalizable and} \\,\\ \\lambda_1, \\lambda_2, \\cdots, \\lambda_n, \\mathbf{x}_1, \\mathbf{x}_2, \\cdots, \\mathbf{x}_n \\,\\ \\text{are eigenvalues and corresponding eigenvectors.} $<br>\n",
    "$ \\text{For} \\,\\ i \\neq j, $<br>\n",
    "$$\n",
    "\\begin{matrix}\n",
    "\\lambda_i \\mathbf{x}_i^T \\mathbf{x}_j &= (A \\mathbf{x}_i)^T \\mathbf{x}_j \\\\\n",
    "                                      &= \\mathbf{x}_i^T A^T \\mathbf{x}_j \\\\\n",
    "                                      &= \\mathbf{x}_i(A\\mathbf{x}_j) \\\\\n",
    "                                      &= \\mathbf{x}_i^T (\\lambda_j \\mathbf{x}_j)\n",
    "\\end{matrix}\n",
    "$$\n",
    "\n",
    "$ \\text{Therefore,} \\,\\ (\\lambda_i - \\lambda_j)\\mathbf{x}_i^T\\mathbf{x}_j = 0. $<br>\n",
    "$ \\text{Since} \\,\\ \\lambda_i - \\lambda_j \\neq 0, \\mathbf{x}_i^T\\mathbf{x}_j = 0.$\n",
    "\n",
    "$$ \\therefore \\quad \\mathbf{x}_i \\perp \\mathbf{x}_j \\,\\ \\text{for} \\,\\ i \\neq j \\quad \\blacksquare$$\n"
   ]
  },
  {
   "cell_type": "markdown",
   "id": "524d50a8-0a11-49fc-8a0e-85273bff6f67",
   "metadata": {},
   "source": [
    "##### Theorem.2.8.\n",
    "$n$차 실정방행렬 $A$에 대해서, $A$가 직교대각화가능일 필요충분조건은 $A$가 대칭행렬이다.\n",
    "\n",
    "__Proof.__ <br>\n",
    "Trivial."
   ]
  },
  {
   "cell_type": "markdown",
   "id": "1884be32-6c0e-4b9a-942b-1930a19f7c52",
   "metadata": {},
   "source": [
    "#### 2.3. Singular Value Decomposition"
   ]
  },
  {
   "cell_type": "markdown",
   "id": "6a7aaceb-6930-44d9-8a98-7e29d04a24df",
   "metadata": {},
   "source": [
    "##### Definition.2.5. Positive Definite\n",
    "$ \\text{Let} \\,\\ A \\,\\ \\text{be a symmetric matrix.} $\n",
    "\n",
    "$$\n",
    "\\text{If} \\,\\ ^\\forall \\mathbf{x} \\neq \\mathbf{0}, \\,\\ \\mathbf{x}^T A \\mathbf{x} > 0, \\,\\ \\text{then} \\,\\ A \\,\\ \\text{is called positive definite.}\n",
    "$$\n",
    "\n",
    "$$\n",
    "\\text{If} \\,\\ ^\\forall \\mathbf{x} \\neq \\mathbf{0}, \\,\\ \\mathbf{x}^T A \\mathbf{x} \\ge 0, \\,\\ \\text{then} \\,\\ A \\,\\ \\text{is called positive semidefinite.}\n",
    "$$\n",
    "\n",
    "$$\n",
    "\\text{If} \\,\\ ^\\forall \\mathbf{x} \\neq \\mathbf{0}, \\,\\ \\mathbf{x}^T A \\mathbf{x} < 0, \\,\\ \\text{then} \\,\\ A \\,\\ \\text{is called negative definite.}\n",
    "$$\n",
    "\n",
    "$$\n",
    "\\text{If} \\,\\ ^\\forall \\mathbf{x} \\neq \\mathbf{0}, \\,\\ \\mathbf{x}^T A \\mathbf{x} \\le 0, \\,\\ \\text{then} \\,\\ A \\,\\ \\text{is called negative semidefinite.}\n",
    "$$"
   ]
  },
  {
   "cell_type": "markdown",
   "id": "cfc892ec-4847-4647-9ed5-d3623b7fc553",
   "metadata": {},
   "source": [
    "##### Theorem.2.9.\n",
    "대칭행렬 $A$에 대하여 다음이 성립한다.\n",
    "\n",
    "- $A$가 Positive definite면 모든 $A$의 모든 고윳값은 양수이다.\n",
    "- $A$가 Positive semidefinite면 모든 $A$의 모든 고윳값은 음이 아닌 수수이다.\n",
    "- $A$가 Negative definite면 모든 $A$의 모든 고윳값은 음수이다.\n",
    "- $A$가 Negative semidefinite면 모든 $A$의 모든 고윳값은 양이 아닌 실수이다.\n",
    "\n",
    "__Proof.__ <br>\n",
    "Chapter03 이후"
   ]
  },
  {
   "cell_type": "markdown",
   "id": "37faf045-b41a-481b-9435-abe066a2e14e",
   "metadata": {},
   "source": [
    "----\n",
    "##### Application.2.1. Eigenvalue Decomposition(EVD)"
   ]
  },
  {
   "cell_type": "markdown",
   "id": "1f666f29-54b1-40dd-8eea-fe6dd35a76d7",
   "metadata": {},
   "source": [
    "By above theorems."
   ]
  },
  {
   "cell_type": "markdown",
   "id": "774868c2-9bab-4bdc-b23b-90649dcdc42e",
   "metadata": {},
   "source": [
    "##### Application.2.2. Singular Value Decomposition(SVD)"
   ]
  },
  {
   "cell_type": "markdown",
   "id": "c711be04-20f3-4e0e-9f7f-a12ac3cc7b58",
   "metadata": {},
   "source": [
    "Any matrix $A_{m \\times n}$ can be decomposed as $ A = U_{m \\times m} \\Sigma_{m \\times n} {V_{n \\times n}}^T $<br>\n",
    "where $ AA^T = U \\Sigma \\Sigma^T U^T, \\,\\ A^TA = V \\Sigma^T \\Sigma V^T $"
   ]
  },
  {
   "cell_type": "markdown",
   "id": "7bac5571-992e-48a3-864e-04e0741434ea",
   "metadata": {},
   "source": [
    "---"
   ]
  }
 ],
 "metadata": {
  "kernelspec": {
   "display_name": "Python 3 (ipykernel)",
   "language": "python",
   "name": "python3"
  },
  "language_info": {
   "codemirror_mode": {
    "name": "ipython",
    "version": 3
   },
   "file_extension": ".py",
   "mimetype": "text/x-python",
   "name": "python",
   "nbconvert_exporter": "python",
   "pygments_lexer": "ipython3",
   "version": "3.8.10"
  }
 },
 "nbformat": 4,
 "nbformat_minor": 5
}

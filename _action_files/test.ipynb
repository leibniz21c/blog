{
 "cells": [
  {
   "cell_type": "code",
   "execution_count": 3,
   "metadata": {},
   "outputs": [],
   "source": [
    "\"\"\"Converts Jupyter Notebooks to Jekyll compliant blog posts\"\"\"\n",
    "from datetime import datetime\n",
    "import re, os, logging\n",
    "from nbdev import export2html\n",
    "from nbdev.export2html import Config, Path, _to_html, _re_block_notes\n",
    "from fast_template import rename_for_jekyll\n"
   ]
  },
  {
   "cell_type": "code",
   "execution_count": 58,
   "metadata": {},
   "outputs": [
    {
     "name": "stdout",
     "output_type": "stream",
     "text": [
      "True\n"
     ]
    }
   ],
   "source": [
    "with open(\"test-report.ipynb\", \"r\") as f:\n",
    "    tags = f.read()\n",
    "\n",
    "end_index = start_index = tags.find(\"\\\"- categories:\") + 15\n",
    "while tags[end_index:end_index + 2] != \"\\\\n\": \n",
    "    end_index += 1\n",
    "tags = tags[start_index:end_index] \n",
    "\n",
    "if \"report\" in tags:\n",
    "    print(True)"
   ]
  },
  {
   "cell_type": "code",
   "execution_count": 47,
   "metadata": {},
   "outputs": [
    {
     "data": {
      "text/plain": [
       "['a', 'b', 'c']"
      ]
     },
     "execution_count": 47,
     "metadata": {},
     "output_type": "execute_result"
    }
   ],
   "source": [
    "[a for a in ['a', 'b', 'c']]"
   ]
  },
  {
   "cell_type": "code",
   "execution_count": 32,
   "metadata": {},
   "outputs": [
    {
     "name": "stdout",
     "output_type": "stream",
     "text": [
      "{\n",
      " \"cells\": [\n",
      "  {\n",
      "   \"cell_type\": \"markdown\",\n",
      "   \"id\": \"1f3e6342\",\n",
      "   \"metadata\": {},\n",
      "   \"source\": [\n",
      "    \"# \\\"[TEST] Test Report\\\"\\n\",\n",
      "    \"> Test\\n\",\n",
      "    \"\\n\",\n",
      "    \"- toc: false\\n\",\n",
      "    \"- badges: false\\n\",\n",
      "    \"- comments: false\\n\",\n",
      "    \"- categories: [encrypted, report]\\n\",\n",
      "    \"- hide_{github,colab,binder,deepnote}_badge: true\"\n",
      "   ]\n",
      "  },\n",
      "  {\n",
      "   \"cell_type\": \"markdown\",\n",
      "   \"id\": \"30f2c4eb\",\n",
      "   \"metadata\": {},\n",
      "   \"source\": [\n",
      "    \"This is test content.\"\n",
      "   ]\n",
      "  }\n",
      " ],\n",
      " \"metadata\": {\n",
      "  \"kernelspec\": {\n",
      "   \"display_name\": \"Python 3 (ipykernel)\",\n",
      "   \"language\": \"python\",\n",
      "   \"name\": \"python3\"\n",
      "  },\n",
      "  \"language_info\": {\n",
      "   \"codemirror_mode\": {\n",
      "    \"name\": \"ipython\",\n",
      "    \"version\": 3\n",
      "   },\n",
      "   \"file_extension\": \".py\",\n",
      "   \"mimetype\": \"text/x-python\",\n",
      "   \"name\": \"python\",\n",
      "   \"nbconvert_exporter\": \"python\",\n",
      "   \"pygments_lexer\": \"ipython3\",\n",
      "   \"version\": \"3.8.10\"\n",
      "  }\n",
      " },\n",
      " \"nbformat\": 4,\n",
      " \"nbformat_minor\": 5\n",
      "}\n",
      "\n"
     ]
    }
   ],
   "source": [
    "print(text)"
   ]
  },
  {
   "cell_type": "code",
   "execution_count": null,
   "metadata": {},
   "outputs": [],
   "source": [
    "warnings = set()\n",
    "    \n",
    "# Modify the naming process such that destination files get named properly for Jekyll _posts\n",
    "def _nb2htmlfname(nb_path, dest=None): \n",
    "    fname = rename_for_jekyll(nb_path, warnings=warnings)\n",
    "    if dest is None: dest = Config().doc_path\n",
    "    return Path(dest)/fname\n",
    "\n",
    "# TODO: Open a GitHub Issue in addition to printing warnings\n",
    "for original, new in warnings:\n",
    "    print(f'{original} has been renamed to {new} to be complaint with Jekyll naming conventions.\\n')\n",
    "    \n",
    "## apply monkey patches\n",
    "export2html._nb2htmlfname = _nb2htmlfname\n",
    "export2html.notebook2html(fname='_notebooks/*.ipynb', dest='_posts/', template_file='/fastpages/fastpages.tpl', execute=False)"
   ]
  }
 ],
 "metadata": {
  "kernelspec": {
   "display_name": "Python 3 (ipykernel)",
   "language": "python",
   "name": "python3"
  },
  "language_info": {
   "codemirror_mode": {
    "name": "ipython",
    "version": 3
   },
   "file_extension": ".py",
   "mimetype": "text/x-python",
   "name": "python",
   "nbconvert_exporter": "python",
   "pygments_lexer": "ipython3",
   "version": "3.8.10"
  }
 },
 "nbformat": 4,
 "nbformat_minor": 4
}
